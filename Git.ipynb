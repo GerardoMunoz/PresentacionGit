{
  "nbformat": 4,
  "nbformat_minor": 0,
  "metadata": {
    "kernelspec": {
      "display_name": "Python 3",
      "language": "python",
      "name": "python3"
    },
    "language_info": {
      "codemirror_mode": {
        "name": "ipython",
        "version": 3
      },
      "file_extension": ".py",
      "mimetype": "text/x-python",
      "name": "python",
      "nbconvert_exporter": "python",
      "pygments_lexer": "ipython3",
      "version": "3.9.2"
    },
    "colab": {
      "name": "Git.ipynb",
      "provenance": []
    }
  },
  "cells": [
    {
      "cell_type": "markdown",
      "metadata": {
        "id": "em2-e2o15Gok"
      },
      "source": [
        "# Comandos de Windows desde Jupyter\n",
        "\n",
        "El signo de admiración (!) permite ejecutar comandos del sistema operativo directamente dese la celda de código. Sin embargo, como una libreta de Jupyter se puede ejecutar en diferentes sistemas operativos entonces estos comandos pueden variar. Para este ejemplo usaré los comandos de Windows, en caso de tener algún problema lo invito a consultar el respectivo comando en su sistema operativo. "
      ]
    },
    {
      "cell_type": "code",
      "metadata": {
        "scrolled": true,
        "id": "Moe40RF75Gom",
        "outputId": "1373e17d-5039-4202-840e-6a9f4d7b286a"
      },
      "source": [
        "# Listar los elementos del directorio\n",
        "!dir"
      ],
      "execution_count": null,
      "outputs": [
        {
          "output_type": "stream",
          "text": [
            " El volumen de la unidad C no tiene etiqueta.\n",
            " El n£mero de serie del volumen es: 74C5-79FB\n",
            "\n",
            " Directorio de C:\\cursos\\Git_01_ver008\n",
            "\n",
            "09/03/2021  11:59 p.m.    <DIR>          .\n",
            "09/03/2021  11:59 p.m.    <DIR>          ..\n",
            "09/03/2021  11:57 p.m.    <DIR>          .ipynb_checkpoints\n",
            "09/03/2021  11:59 p.m.           597.901 Git.ipynb\n",
            "               1 archivos        597.901 bytes\n",
            "               3 dirs  28.014.686.208 bytes libres\n"
          ],
          "name": "stdout"
        }
      ]
    },
    {
      "cell_type": "code",
      "metadata": {
        "id": "6ExI0OLk5Goo",
        "outputId": "3f872f64-c838-4803-d3a5-c30dc9b6dd0d"
      },
      "source": [
        "# Listar los elementos del directorio incluyendo archivos ocultos\n",
        "!dir /a"
      ],
      "execution_count": null,
      "outputs": [
        {
          "output_type": "stream",
          "text": [
            " El volumen de la unidad C no tiene etiqueta.\n",
            " El n£mero de serie del volumen es: 74C5-79FB\n",
            "\n",
            " Directorio de C:\\cursos\\Git_01_ver008\n",
            "\n",
            "09/03/2021  11:59 p.m.    <DIR>          .\n",
            "09/03/2021  11:59 p.m.    <DIR>          ..\n",
            "09/03/2021  11:57 p.m.    <DIR>          .ipynb_checkpoints\n",
            "09/03/2021  11:59 p.m.           597.901 Git.ipynb\n",
            "               1 archivos        597.901 bytes\n",
            "               3 dirs  27.995.541.504 bytes libres\n"
          ],
          "name": "stdout"
        }
      ]
    },
    {
      "cell_type": "code",
      "metadata": {
        "id": "aBQijFOJ5Goo",
        "outputId": "fee7bc5b-db6b-4fc6-fcc0-274f17a0d6d1"
      },
      "source": [
        "# Presentar en la consola\n",
        "!echo Hola Mundo"
      ],
      "execution_count": null,
      "outputs": [
        {
          "output_type": "stream",
          "text": [
            "Hola Mundo\n"
          ],
          "name": "stdout"
        }
      ]
    },
    {
      "cell_type": "code",
      "metadata": {
        "id": "qAf_lwsS5Gop"
      },
      "source": [
        "# El símbolo mayor que (>) permite enviar\n",
        "# la salida de un comando a un archivo nuevo\n",
        "!echo Estimado mundo > saludo.txt"
      ],
      "execution_count": null,
      "outputs": []
    },
    {
      "cell_type": "code",
      "metadata": {
        "id": "6Z0vj5kp5Gop"
      },
      "source": [
        "# El doble símbolo mayor que (>>) permite añadir\n",
        "# la salida de un comando a un archivo existente\n",
        "!echo reciba un cordial saludo >> saludo.txt"
      ],
      "execution_count": null,
      "outputs": []
    },
    {
      "cell_type": "code",
      "metadata": {
        "id": "lqtSdgeb5Goq",
        "outputId": "be0c4ce3-80f6-422b-fc0b-29584884744c"
      },
      "source": [
        "# Ver el contenido de un archivo\n",
        "!type saludo.txt"
      ],
      "execution_count": null,
      "outputs": [
        {
          "output_type": "stream",
          "text": [
            "Estimado mundo \n",
            "reciba un cordial saludo \n"
          ],
          "name": "stdout"
        }
      ]
    },
    {
      "cell_type": "code",
      "metadata": {
        "id": "R2JA4lLx5Goq"
      },
      "source": [
        "# Crear un directorio\n",
        "!mkdir imagenes"
      ],
      "execution_count": null,
      "outputs": []
    },
    {
      "cell_type": "code",
      "metadata": {
        "id": "xQC0gdMz5Gor",
        "outputId": "9f5c39b0-3029-4568-cbf0-2ce3d636031b"
      },
      "source": [
        "!dir"
      ],
      "execution_count": null,
      "outputs": [
        {
          "output_type": "stream",
          "text": [
            " El volumen de la unidad C no tiene etiqueta.\n",
            " El n£mero de serie del volumen es: 74C5-79FB\n",
            "\n",
            " Directorio de C:\\cursos\\Git_01_ver008\n",
            "\n",
            "10/03/2021  12:06 a.m.    <DIR>          .\n",
            "10/03/2021  12:06 a.m.    <DIR>          ..\n",
            "09/03/2021  11:59 p.m.    <DIR>          .ipynb_checkpoints\n",
            "10/03/2021  12:05 a.m.           599.435 Git.ipynb\n",
            "10/03/2021  12:06 a.m.    <DIR>          imagenes\n",
            "10/03/2021  12:05 a.m.                44 saludo.txt\n",
            "               2 archivos        599.479 bytes\n",
            "               4 dirs  27.970.236.416 bytes libres\n"
          ],
          "name": "stdout"
        }
      ]
    },
    {
      "cell_type": "code",
      "metadata": {
        "id": "HigTy2_M5Gor",
        "outputId": "c6f056da-b3ed-4f9c-ca1e-e347a78c81e7"
      },
      "source": [
        "#ejecutar comandos git\n",
        "!git"
      ],
      "execution_count": null,
      "outputs": [
        {
          "output_type": "stream",
          "text": [
            "usage: git [--version] [--help] [-C <path>] [-c <name>=<value>]\n",
            "           [--exec-path[=<path>]] [--html-path] [--man-path] [--info-path]\n",
            "           [-p | --paginate | -P | --no-pager] [--no-replace-objects] [--bare]\n",
            "           [--git-dir=<path>] [--work-tree=<path>] [--namespace=<name>]\n",
            "           <command> [<args>]\n",
            "\n",
            "These are common Git commands used in various situations:\n",
            "\n",
            "start a working area (see also: git help tutorial)\n",
            "   clone             Clone a repository into a new directory\n",
            "   init              Create an empty Git repository or reinitialize an existing one\n",
            "\n",
            "work on the current change (see also: git help everyday)\n",
            "   add               Add file contents to the index\n",
            "   mv                Move or rename a file, a directory, or a symlink\n",
            "   restore           Restore working tree files\n",
            "   rm                Remove files from the working tree and from the index\n",
            "   sparse-checkout   Initialize and modify the sparse-checkout\n",
            "\n",
            "examine the history and state (see also: git help revisions)\n",
            "   bisect            Use binary search to find the commit that introduced a bug\n",
            "   diff              Show changes between commits, commit and working tree, etc\n",
            "   grep              Print lines matching a pattern\n",
            "   log               Show commit logs\n",
            "   show              Show various types of objects\n",
            "   status            Show the working tree status\n",
            "\n",
            "grow, mark and tweak your common history\n",
            "   branch            List, create, or delete branches\n",
            "   commit            Record changes to the repository\n",
            "   merge             Join two or more development histories together\n",
            "   rebase            Reapply commits on top of another base tip\n",
            "   reset             Reset current HEAD to the specified state\n",
            "   switch            Switch branches\n",
            "   tag               Create, list, delete or verify a tag object signed with GPG\n",
            "\n",
            "collaborate (see also: git help workflows)\n",
            "   fetch             Download objects and refs from another repository\n",
            "   pull              Fetch from and integrate with another repository or a local branch\n",
            "   push              Update remote refs along with associated objects\n",
            "\n",
            "'git help -a' and 'git help -g' list available subcommands and some\n",
            "concept guides. See 'git help <command>' or 'git help <concept>'\n",
            "to read about a specific subcommand or concept.\n",
            "See 'git help git' for an overview of the system.\n"
          ],
          "name": "stdout"
        }
      ]
    },
    {
      "cell_type": "code",
      "metadata": {
        "id": "B26J3hpJ5Gor",
        "outputId": "ea4ab32f-d11e-4178-c869-3d765c9726a8"
      },
      "source": [
        "# Para cambiar de directorio se requiere usar \n",
        "# un comando mágico de Jupyter. \n",
        "# Para esto hay que usar el símbolo de porcentaje %\n",
        "%cd imagenes"
      ],
      "execution_count": null,
      "outputs": [
        {
          "output_type": "stream",
          "text": [
            "C:\\cursos\\Git_01_ver008\\imagenes\n"
          ],
          "name": "stdout"
        }
      ]
    },
    {
      "cell_type": "code",
      "metadata": {
        "id": "ySvtr05X5Gos",
        "outputId": "b13c1187-433b-47e0-eae6-c1f710b2bfd3"
      },
      "source": [
        "!dir"
      ],
      "execution_count": null,
      "outputs": [
        {
          "output_type": "stream",
          "text": [
            " El volumen de la unidad C no tiene etiqueta.\n",
            " El n£mero de serie del volumen es: 74C5-79FB\n",
            "\n",
            " Directorio de C:\\cursos\\Git_01_ver008\\imagenes\n",
            "\n",
            "10/03/2021  12:06 a.m.    <DIR>          .\n",
            "10/03/2021  12:06 a.m.    <DIR>          ..\n",
            "               0 archivos              0 bytes\n",
            "               2 dirs  27.953.393.664 bytes libres\n"
          ],
          "name": "stdout"
        }
      ]
    },
    {
      "cell_type": "code",
      "metadata": {
        "id": "pA5eJMIq5Gos",
        "outputId": "a38b4f44-7983-4ffa-a28c-d45005a9e1af"
      },
      "source": [
        "%cd .."
      ],
      "execution_count": null,
      "outputs": [
        {
          "output_type": "stream",
          "text": [
            "C:\\cursos\\Git_01_ver008\n"
          ],
          "name": "stdout"
        }
      ]
    },
    {
      "cell_type": "code",
      "metadata": {
        "id": "K-pO11_K5Got",
        "outputId": "f82aabaf-bca0-4f1d-b734-590c7a09ee31"
      },
      "source": [
        "!dir"
      ],
      "execution_count": null,
      "outputs": [
        {
          "output_type": "stream",
          "text": [
            " El volumen de la unidad C no tiene etiqueta.\n",
            " El n£mero de serie del volumen es: 74C5-79FB\n",
            "\n",
            " Directorio de C:\\cursos\\Git_01_ver008\n",
            "\n",
            "10/03/2021  12:07 a.m.    <DIR>          .\n",
            "10/03/2021  12:07 a.m.    <DIR>          ..\n",
            "09/03/2021  11:59 p.m.    <DIR>          .ipynb_checkpoints\n",
            "10/03/2021  12:07 a.m.           603.103 Git.ipynb\n",
            "10/03/2021  12:06 a.m.    <DIR>          imagenes\n",
            "10/03/2021  12:05 a.m.                44 saludo.txt\n",
            "               2 archivos        603.147 bytes\n",
            "               4 dirs  27.949.248.512 bytes libres\n"
          ],
          "name": "stdout"
        }
      ]
    },
    {
      "cell_type": "markdown",
      "metadata": {
        "id": "lgeo5d5C5Got"
      },
      "source": [
        "# Git \n",
        "\n",
        "\n",
        "* Basado en el libro 'Pro Git'\n",
        "* Escrito por 'Scott Chacon' y por  'Ben Straub'\n",
        "* Versión 2.1.22, 2021-02-09\n",
        "* https://git-scm.com/book/es/v2"
      ]
    },
    {
      "cell_type": "markdown",
      "metadata": {
        "id": "5qZpvuyS5Gou"
      },
      "source": [
        "## Acerca del Control de Versiones\n",
        "Pgs. 9-16"
      ]
    },
    {
      "cell_type": "markdown",
      "metadata": {
        "id": "mMZ4C_ti5Gou"
      },
      "source": [
        "# ![image.png](attachment:image.png)"
      ]
    },
    {
      "cell_type": "markdown",
      "metadata": {
        "id": "KI0fTiD25Gov"
      },
      "source": [
        "![image.png](attachment:image.png)"
      ]
    },
    {
      "cell_type": "markdown",
      "metadata": {
        "id": "HZ3N1-pp5Gov"
      },
      "source": [
        "![image.png](attachment:image.png)"
      ]
    },
    {
      "cell_type": "markdown",
      "metadata": {
        "id": "w1LAYex55Gov"
      },
      "source": [
        "![image.png](attachment:image.png)"
      ]
    },
    {
      "cell_type": "markdown",
      "metadata": {
        "id": "o89nffVA5Gov"
      },
      "source": [
        "(pg 16)\n",
        "\n",
        "Git tiene tres estados principales en los que se pueden encontrar tus archivos: \n",
        "* confirmado (**committed**), significa que los datos están almacenados de manera segura en tu base de datos local\n",
        "* modificado (**modified**), significa que has modificado el archivo, pero todavía no lo has confirmado a tu base de datos.\n",
        "* preparado (**staged**), significa que has marcado un archivo modificado en su versión actual para que vaya en tu próxima confirmación.\n"
      ]
    },
    {
      "cell_type": "markdown",
      "metadata": {
        "id": "k-tCFSNb5Gow"
      },
      "source": [
        "![image.png](attachment:image.png)"
      ]
    },
    {
      "cell_type": "markdown",
      "metadata": {
        "id": "U2j0liTy5Gow"
      },
      "source": [
        "## Configurando Git por primera vez\n",
        "### Tu Identidad\n",
        "Pg. 20"
      ]
    },
    {
      "cell_type": "code",
      "metadata": {
        "id": "477bTP2m5Gow"
      },
      "source": [
        "!git config  --global user.name \"Mi Nombre\""
      ],
      "execution_count": null,
      "outputs": []
    },
    {
      "cell_type": "code",
      "metadata": {
        "id": "pL8SXQPv5Gox"
      },
      "source": [
        "!git config  --global user.email micorreo@ejemplo.com"
      ],
      "execution_count": null,
      "outputs": []
    },
    {
      "cell_type": "code",
      "metadata": {
        "id": "IroeN9o65Gox",
        "outputId": "ebb9b927-b184-4043-b306-e5d9cc44cea0"
      },
      "source": [
        "!git config --list "
      ],
      "execution_count": null,
      "outputs": [
        {
          "output_type": "stream",
          "text": [
            "diff.astextplain.textconv=astextplain\n",
            "filter.lfs.clean=git-lfs clean -- %f\n",
            "filter.lfs.smudge=git-lfs smudge -- %f\n",
            "filter.lfs.process=git-lfs filter-process\n",
            "filter.lfs.required=true\n",
            "http.sslbackend=openssl\n",
            "http.sslcainfo=C:/Program Files/Git/mingw64/ssl/certs/ca-bundle.crt\n",
            "core.autocrlf=true\n",
            "core.fscache=true\n",
            "core.symlinks=false\n",
            "pull.rebase=false\n",
            "credential.helper=manager-core\n",
            "credential.https://dev.azure.com.usehttppath=true\n",
            "init.defaultbranch=master\n",
            "core.editor=\"C:\\Users\\Azul\\AppData\\Local\\Programs\\Microsoft VS Code\\Code.exe\" --wait\n",
            "user.name=Mi Nombre\n",
            "user.email=micorreo@ejemplo.com\n"
          ],
          "name": "stdout"
        }
      ]
    },
    {
      "cell_type": "code",
      "metadata": {
        "id": "8gQBTwg35Gox",
        "outputId": "2f07c889-7d4f-4ce6-d4dd-a5c2723752cb"
      },
      "source": [
        "!git config user.name"
      ],
      "execution_count": null,
      "outputs": [
        {
          "output_type": "stream",
          "text": [
            "Mi Nombre\n"
          ],
          "name": "stdout"
        }
      ]
    },
    {
      "cell_type": "code",
      "metadata": {
        "id": "vqu_2b7W5Goy",
        "outputId": "f99ed5d2-eac7-42e7-c65c-c10d455bab6c"
      },
      "source": [
        "!git config user.email"
      ],
      "execution_count": null,
      "outputs": [
        {
          "output_type": "stream",
          "text": [
            "micorreo@ejemplo.com\n"
          ],
          "name": "stdout"
        }
      ]
    },
    {
      "cell_type": "markdown",
      "metadata": {
        "id": "oYL9bqzU5Goy"
      },
      "source": [
        "### Tu Editor\n",
        "Pg. 21\n",
        "\n",
        "Al confirmar los cambios (`commit`) es necesario documentar los cambios realizados. Por tal motivo esta instrucción abre un editor de texto que fue configurado en la instalación. Está acción no es compatible con todas las implementaciones de Jupyter. Por tal motivo en este curso evitaremos en lo posible abrir un editor de texto externo. Para lo cual utilizaremos la instrucción \n",
        "\n",
        "`commit -m \"Aquí escribimos la documentación del cambio\"`\n",
        "\n",
        "que no requiere abrir el editor externo, sino que incluye la documentación en el mismo comando.\n",
        "\n",
        "En todo caso, yo configuré en la instalación el editor VS Code, lo cual se aprecia en la configuración \n",
        "\n",
        "`core.editor=\"C:\\Users\\Azul\\AppData\\Local\\Programs\\Microsoft VS Code\\Code.exe\" --wait`\n",
        "\n",
        "Por defecto está un editor de Linux que requiere comandos de teclado. Es posible cambiar el editor con el comando \n",
        "\n",
        "`git config --global core.editor `editor_a_usar\n"
      ]
    },
    {
      "cell_type": "markdown",
      "metadata": {
        "id": "kKCqLTxN5Goy"
      },
      "source": [
        "### ¿Cómo obtener ayuda?\n",
        "Pg. 22"
      ]
    },
    {
      "cell_type": "code",
      "metadata": {
        "id": "4Gf52rsV5Goy",
        "outputId": "e2371954-35e4-4726-9e90-2181f72257c7"
      },
      "source": [
        "!git help"
      ],
      "execution_count": null,
      "outputs": [
        {
          "output_type": "stream",
          "text": [
            "usage: git [--version] [--help] [-C <path>] [-c <name>=<value>]\n",
            "           [--exec-path[=<path>]] [--html-path] [--man-path] [--info-path]\n",
            "           [-p | --paginate | -P | --no-pager] [--no-replace-objects] [--bare]\n",
            "           [--git-dir=<path>] [--work-tree=<path>] [--namespace=<name>]\n",
            "           <command> [<args>]\n",
            "\n",
            "These are common Git commands used in various situations:\n",
            "\n",
            "start a working area (see also: git help tutorial)\n",
            "   clone             Clone a repository into a new directory\n",
            "   init              Create an empty Git repository or reinitialize an existing one\n",
            "\n",
            "work on the current change (see also: git help everyday)\n",
            "   add               Add file contents to the index\n",
            "   mv                Move or rename a file, a directory, or a symlink\n",
            "   restore           Restore working tree files\n",
            "   rm                Remove files from the working tree and from the index\n",
            "   sparse-checkout   Initialize and modify the sparse-checkout\n",
            "\n",
            "examine the history and state (see also: git help revisions)\n",
            "   bisect            Use binary search to find the commit that introduced a bug\n",
            "   diff              Show changes between commits, commit and working tree, etc\n",
            "   grep              Print lines matching a pattern\n",
            "   log               Show commit logs\n",
            "   show              Show various types of objects\n",
            "   status            Show the working tree status\n",
            "\n",
            "grow, mark and tweak your common history\n",
            "   branch            List, create, or delete branches\n",
            "   commit            Record changes to the repository\n",
            "   merge             Join two or more development histories together\n",
            "   rebase            Reapply commits on top of another base tip\n",
            "   reset             Reset current HEAD to the specified state\n",
            "   switch            Switch branches\n",
            "   tag               Create, list, delete or verify a tag object signed with GPG\n",
            "\n",
            "collaborate (see also: git help workflows)\n",
            "   fetch             Download objects and refs from another repository\n",
            "   pull              Fetch from and integrate with another repository or a local branch\n",
            "   push              Update remote refs along with associated objects\n",
            "\n",
            "'git help -a' and 'git help -g' list available subcommands and some\n",
            "concept guides. See 'git help <command>' or 'git help <concept>'\n",
            "to read about a specific subcommand or concept.\n",
            "See 'git help git' for an overview of the system.\n"
          ],
          "name": "stdout"
        }
      ]
    },
    {
      "cell_type": "code",
      "metadata": {
        "id": "aZtlgtsm5Goz"
      },
      "source": [
        "#!git help config #Se muestra en otra ventana del navegador"
      ],
      "execution_count": null,
      "outputs": []
    },
    {
      "cell_type": "markdown",
      "metadata": {
        "id": "fGr9igEG5Goz"
      },
      "source": [
        "## Fundamentos de Git\n",
        "Pgs. 24 - 57\n",
        "### Clonando un repositorio existente\n",
        "Pg. 23"
      ]
    },
    {
      "cell_type": "markdown",
      "metadata": {
        "id": "PGcXbQA05Goz"
      },
      "source": [
        "`git clone https://github.com/schacon/simplegit-progit`"
      ]
    },
    {
      "cell_type": "markdown",
      "metadata": {
        "id": "lpS_Yetn5Goz"
      },
      "source": [
        "### Inicializando un repositorio en un directorio existente\n",
        "Pg.23"
      ]
    },
    {
      "cell_type": "code",
      "metadata": {
        "id": "Oef9iShn5Go0"
      },
      "source": [
        "!mkdir ejemplo_git"
      ],
      "execution_count": null,
      "outputs": []
    },
    {
      "cell_type": "code",
      "metadata": {
        "id": "qEIV8aG65Go0",
        "outputId": "f26c76f7-f3af-4999-a8a5-ae6ac9ef2bbb"
      },
      "source": [
        "%cd ejemplo_git"
      ],
      "execution_count": null,
      "outputs": [
        {
          "output_type": "stream",
          "text": [
            "C:\\cursos\\Git_01_ver008\\ejemplo_git\n"
          ],
          "name": "stdout"
        }
      ]
    },
    {
      "cell_type": "code",
      "metadata": {
        "id": "RQ4bze7R5Go0",
        "outputId": "ff8071f5-db11-4170-b49d-cf69c2536a99"
      },
      "source": [
        "#!ls\n",
        "!dir "
      ],
      "execution_count": null,
      "outputs": [
        {
          "output_type": "stream",
          "text": [
            " El volumen de la unidad C no tiene etiqueta.\n",
            " El n£mero de serie del volumen es: 74C5-79FB\n",
            "\n",
            " Directorio de C:\\cursos\\Git_01_ver008\\ejemplo_git\n",
            "\n",
            "10/03/2021  04:33 p.m.    <DIR>          .\n",
            "10/03/2021  04:33 p.m.    <DIR>          ..\n",
            "               0 archivos              0 bytes\n",
            "               2 dirs  30.068.649.984 bytes libres\n"
          ],
          "name": "stdout"
        }
      ]
    },
    {
      "cell_type": "code",
      "metadata": {
        "id": "R-Of9Q8_5Go0",
        "outputId": "f0b72d1c-a93d-45b6-ee2e-a4ed019d06ca"
      },
      "source": [
        "!git status"
      ],
      "execution_count": null,
      "outputs": [
        {
          "output_type": "stream",
          "text": [
            "fatal: not a git repository (or any of the parent directories): .git\n"
          ],
          "name": "stderr"
        }
      ]
    },
    {
      "cell_type": "code",
      "metadata": {
        "id": "XBWG81fE5Go0",
        "outputId": "2abaa5b0-46fd-4c77-b186-7e230ec923ba"
      },
      "source": [
        "!git init"
      ],
      "execution_count": null,
      "outputs": [
        {
          "output_type": "stream",
          "text": [
            "Initialized empty Git repository in C:/cursos/Git_01_ver008/ejemplo_git/.git/\n"
          ],
          "name": "stdout"
        }
      ]
    },
    {
      "cell_type": "code",
      "metadata": {
        "id": "zlcIzIXi5Go1",
        "outputId": "429ee83f-5013-4d4c-8248-54d77d1e36c6"
      },
      "source": [
        "!git status"
      ],
      "execution_count": null,
      "outputs": [
        {
          "output_type": "stream",
          "text": [
            "On branch master\n",
            "\n",
            "No commits yet\n",
            "\n",
            "nothing to commit (create/copy files and use \"git add\" to track)\n"
          ],
          "name": "stdout"
        }
      ]
    },
    {
      "cell_type": "code",
      "metadata": {
        "id": "FI5o34lI5Go1",
        "outputId": "fecacc14-2f69-4527-922b-974d92bf43bc"
      },
      "source": [
        "#!ls\n",
        "!dir "
      ],
      "execution_count": null,
      "outputs": [
        {
          "output_type": "stream",
          "text": [
            " El volumen de la unidad C no tiene etiqueta.\n",
            " El n£mero de serie del volumen es: 74C5-79FB\n",
            "\n",
            " Directorio de C:\\cursos\\Git_01_ver008\\ejemplo_git\n",
            "\n",
            "10/03/2021  04:34 p.m.    <DIR>          .\n",
            "10/03/2021  04:34 p.m.    <DIR>          ..\n",
            "               0 archivos              0 bytes\n",
            "               2 dirs  30.051.782.656 bytes libres\n"
          ],
          "name": "stdout"
        }
      ]
    },
    {
      "cell_type": "code",
      "metadata": {
        "id": "gJlSy5sH5Go1",
        "outputId": "2a57269c-f7c0-4cfe-9f68-f40bf65871cc"
      },
      "source": [
        "#!ls\n",
        "!dir /a"
      ],
      "execution_count": null,
      "outputs": [
        {
          "output_type": "stream",
          "text": [
            " El volumen de la unidad C no tiene etiqueta.\n",
            " El n£mero de serie del volumen es: 74C5-79FB\n",
            "\n",
            " Directorio de C:\\cursos\\Git_01_ver008\\ejemplo_git\n",
            "\n",
            "10/03/2021  04:34 p.m.    <DIR>          .\n",
            "10/03/2021  04:34 p.m.    <DIR>          ..\n",
            "10/03/2021  04:34 p.m.    <DIR>          .git\n",
            "               0 archivos              0 bytes\n",
            "               3 dirs  30.048.444.416 bytes libres\n"
          ],
          "name": "stdout"
        }
      ]
    },
    {
      "cell_type": "code",
      "metadata": {
        "id": "rGOi63ds5Go1",
        "outputId": "ac882f9d-77da-46a1-9a58-3896e5f04f33"
      },
      "source": [
        "!dir .git\n"
      ],
      "execution_count": null,
      "outputs": [
        {
          "output_type": "stream",
          "text": [
            " El volumen de la unidad C no tiene etiqueta.\n",
            " El n£mero de serie del volumen es: 74C5-79FB\n",
            "\n",
            " Directorio de C:\\cursos\\Git_01_ver008\\ejemplo_git\\.git\n",
            "\n",
            "10/03/2021  04:34 p.m.               130 config\n",
            "10/03/2021  04:34 p.m.                73 description\n",
            "10/03/2021  04:34 p.m.                23 HEAD\n",
            "10/03/2021  04:34 p.m.    <DIR>          hooks\n",
            "10/03/2021  04:34 p.m.    <DIR>          info\n",
            "10/03/2021  04:34 p.m.    <DIR>          objects\n",
            "10/03/2021  04:34 p.m.    <DIR>          refs\n",
            "               3 archivos            226 bytes\n",
            "               4 dirs  30.040.842.240 bytes libres\n"
          ],
          "name": "stdout"
        }
      ]
    },
    {
      "cell_type": "markdown",
      "metadata": {
        "id": "hosmJEGk5Go2"
      },
      "source": [
        "## Creando un archivo"
      ]
    },
    {
      "cell_type": "code",
      "metadata": {
        "id": "hHLrtvP-5Go2"
      },
      "source": [
        "# Se puede copiar un archivo en la carpeta o crearlo desde cualquier programa\n",
        "!echo \"Finalmente podemos concluir que ...\" > conclusion.txt"
      ],
      "execution_count": null,
      "outputs": []
    },
    {
      "cell_type": "code",
      "metadata": {
        "id": "mXrRRpO85Go2",
        "outputId": "7735d40b-2f4a-438f-c3b5-7a491bb7ad19"
      },
      "source": [
        "#!ls\n",
        "!dir "
      ],
      "execution_count": null,
      "outputs": [
        {
          "output_type": "stream",
          "text": [
            " El volumen de la unidad C no tiene etiqueta.\n",
            " El n£mero de serie del volumen es: 74C5-79FB\n",
            "\n",
            " Directorio de C:\\cursos\\Git_01_ver008\\ejemplo_git\n",
            "\n",
            "10/03/2021  04:37 p.m.    <DIR>          .\n",
            "10/03/2021  04:37 p.m.    <DIR>          ..\n",
            "10/03/2021  04:37 p.m.                40 conclusion.txt\n",
            "               1 archivos             40 bytes\n",
            "               2 dirs  30.030.647.296 bytes libres\n"
          ],
          "name": "stdout"
        }
      ]
    },
    {
      "cell_type": "code",
      "metadata": {
        "id": "qfxf_nbi5Go2",
        "outputId": "1fb33399-a93e-42bf-bb87-4403eb081780"
      },
      "source": [
        "!type conclusion.txt"
      ],
      "execution_count": null,
      "outputs": [
        {
          "output_type": "stream",
          "text": [
            "\"Finalmente podemos concluir que ...\" \n"
          ],
          "name": "stdout"
        }
      ]
    },
    {
      "cell_type": "code",
      "metadata": {
        "id": "OZ8NOc0G5Go3",
        "outputId": "20981392-9d30-4bba-9380-fe9726e9f4ec"
      },
      "source": [
        "!git status"
      ],
      "execution_count": null,
      "outputs": [
        {
          "output_type": "stream",
          "text": [
            "On branch master\n",
            "\n",
            "No commits yet\n",
            "\n",
            "Untracked files:\n",
            "  (use \"git add <file>...\" to include in what will be committed)\n",
            "\tconclusion.txt\n",
            "\n",
            "nothing added to commit but untracked files present (use \"git add\" to track)\n"
          ],
          "name": "stdout"
        }
      ]
    },
    {
      "cell_type": "markdown",
      "metadata": {
        "id": "HtFC0gAX5Go3"
      },
      "source": [
        "![image.png](attachment:image.png)"
      ]
    },
    {
      "cell_type": "code",
      "metadata": {
        "id": "wxR30VTH5Go4"
      },
      "source": [
        "!git add conclusion.txt"
      ],
      "execution_count": null,
      "outputs": []
    },
    {
      "cell_type": "code",
      "metadata": {
        "id": "_p3GYWxy5Go4",
        "outputId": "9021944a-51f4-45c6-ef9e-5a38c5827ce0"
      },
      "source": [
        "!git status"
      ],
      "execution_count": null,
      "outputs": [
        {
          "output_type": "stream",
          "text": [
            "On branch master\n",
            "\n",
            "No commits yet\n",
            "\n",
            "Changes to be committed:\n",
            "  (use \"git rm --cached <file>...\" to unstage)\n",
            "\tnew file:   conclusion.txt\n",
            "\n"
          ],
          "name": "stdout"
        }
      ]
    },
    {
      "cell_type": "markdown",
      "metadata": {
        "id": "pbiwHmDH5Go4"
      },
      "source": [
        "## Creando otro archivo"
      ]
    },
    {
      "cell_type": "code",
      "metadata": {
        "id": "Y7SHGhDi5Go4"
      },
      "source": [
        "# Se puede copiar un archivo en la carpeta o crearlo desde cualquier progrma\n",
        "!echo \"En este documento se presenta ...\" > resumen.txt"
      ],
      "execution_count": null,
      "outputs": []
    },
    {
      "cell_type": "code",
      "metadata": {
        "id": "iV6l0auz5Go4",
        "outputId": "18d3b3ae-4131-4a3c-fb7f-6f7b7e924117"
      },
      "source": [
        "!git status"
      ],
      "execution_count": null,
      "outputs": [
        {
          "output_type": "stream",
          "text": [
            "On branch master\n",
            "\n",
            "No commits yet\n",
            "\n",
            "Changes to be committed:\n",
            "  (use \"git rm --cached <file>...\" to unstage)\n",
            "\tnew file:   conclusion.txt\n",
            "\n",
            "Untracked files:\n",
            "  (use \"git add <file>...\" to include in what will be committed)\n",
            "\tresumen.txt\n",
            "\n"
          ],
          "name": "stdout"
        }
      ]
    },
    {
      "cell_type": "code",
      "metadata": {
        "id": "ZRDWCb7C5Go5"
      },
      "source": [
        "!git add resumen.txt"
      ],
      "execution_count": null,
      "outputs": []
    },
    {
      "cell_type": "code",
      "metadata": {
        "id": "lScKRw7x5Go5",
        "outputId": "cbe34fa1-6de5-429b-e7fb-5b2d8d975c65"
      },
      "source": [
        "!git status"
      ],
      "execution_count": null,
      "outputs": [
        {
          "output_type": "stream",
          "text": [
            "On branch master\n",
            "\n",
            "No commits yet\n",
            "\n",
            "Changes to be committed:\n",
            "  (use \"git rm --cached <file>...\" to unstage)\n",
            "\tnew file:   conclusion.txt\n",
            "\tnew file:   resumen.txt\n",
            "\n"
          ],
          "name": "stdout"
        }
      ]
    },
    {
      "cell_type": "markdown",
      "metadata": {
        "id": "M8nCVNSp5Go5"
      },
      "source": [
        "## Confirmando (`commit`)"
      ]
    },
    {
      "cell_type": "code",
      "metadata": {
        "id": "sg8pMXlC5Go5",
        "outputId": "932824e8-df9d-45ae-9c50-a2d16a4d9ee6"
      },
      "source": [
        "!git commit -m \"Versión inicial del proyecto\"\n"
      ],
      "execution_count": null,
      "outputs": [
        {
          "output_type": "stream",
          "text": [
            "[master (root-commit) 6f9a713] VersiÃ³n inicial del proyecto\n",
            " 2 files changed, 2 insertions(+)\n",
            " create mode 100644 conclusion.txt\n",
            " create mode 100644 resumen.txt\n"
          ],
          "name": "stdout"
        }
      ]
    },
    {
      "cell_type": "markdown",
      "metadata": {
        "id": "QfE9JT1D5Go6"
      },
      "source": [
        "![image.png](attachment:image.png)"
      ]
    },
    {
      "cell_type": "code",
      "metadata": {
        "id": "loQUUtMG5Go6",
        "outputId": "ad3cb92e-e4f4-419d-9211-3789f161b819"
      },
      "source": [
        "!git status"
      ],
      "execution_count": null,
      "outputs": [
        {
          "output_type": "stream",
          "text": [
            "On branch master\n",
            "nothing to commit, working tree clean\n"
          ],
          "name": "stdout"
        }
      ]
    },
    {
      "cell_type": "markdown",
      "metadata": {
        "id": "Yb3NT9Nh5Go6"
      },
      "source": [
        "## Modificando y preparando (`stage`) archivo \n",
        "Pg. 26"
      ]
    },
    {
      "cell_type": "code",
      "metadata": {
        "id": "VXhYdnML5Go6"
      },
      "source": [
        "!echo \"... en este aspecto mejoró 3% respecto ...\" >> conclusion.txt"
      ],
      "execution_count": null,
      "outputs": []
    },
    {
      "cell_type": "code",
      "metadata": {
        "id": "YIVjZtDc5Go6",
        "outputId": "36ac74f6-b641-474d-8575-206d45fd2f0e"
      },
      "source": [
        "!type conclusion.txt"
      ],
      "execution_count": null,
      "outputs": [
        {
          "output_type": "stream",
          "text": [
            "\"Finalmente podemos concluir que ...\" \n",
            "\"... en este aspecto mejor¢ 3% respecto ...\" \n"
          ],
          "name": "stdout"
        }
      ]
    },
    {
      "cell_type": "code",
      "metadata": {
        "id": "-sAtfMJb5Go7",
        "outputId": "08c86f3c-5e40-4836-c4f7-22c300f3bb13"
      },
      "source": [
        "!git status"
      ],
      "execution_count": null,
      "outputs": [
        {
          "output_type": "stream",
          "text": [
            "On branch master\n",
            "Changes not staged for commit:\n",
            "  (use \"git add <file>...\" to update what will be committed)\n",
            "  (use \"git restore <file>...\" to discard changes in working directory)\n",
            "\tmodified:   conclusion.txt\n",
            "\n",
            "no changes added to commit (use \"git add\" and/or \"git commit -a\")\n"
          ],
          "name": "stdout"
        }
      ]
    },
    {
      "cell_type": "markdown",
      "metadata": {
        "id": "G-N7JDyo5Go7"
      },
      "source": [
        "![image.png](attachment:image.png)"
      ]
    },
    {
      "cell_type": "code",
      "metadata": {
        "id": "7FMKkajG5Go7"
      },
      "source": [
        "!echo \"... mejores resultados que los reportados.\" >> resumen.txt"
      ],
      "execution_count": null,
      "outputs": []
    },
    {
      "cell_type": "code",
      "metadata": {
        "id": "eaiCEUqI5Go7",
        "outputId": "35e21e05-dc4a-494a-8c3f-220f4893f182"
      },
      "source": [
        "!type resumen.txt"
      ],
      "execution_count": null,
      "outputs": [
        {
          "output_type": "stream",
          "text": [
            "\"En este documento se presenta ...\" \n",
            "\"... mejores resultados que los reportados.\" \n"
          ],
          "name": "stdout"
        }
      ]
    },
    {
      "cell_type": "code",
      "metadata": {
        "id": "0cv4Sfwt5Go7",
        "outputId": "df5f8718-8c6c-410d-be42-7667a40ccd5c"
      },
      "source": [
        "!git status"
      ],
      "execution_count": null,
      "outputs": [
        {
          "output_type": "stream",
          "text": [
            "On branch master\n",
            "Changes not staged for commit:\n",
            "  (use \"git add <file>...\" to update what will be committed)\n",
            "  (use \"git restore <file>...\" to discard changes in working directory)\n",
            "\tmodified:   conclusion.txt\n",
            "\tmodified:   resumen.txt\n",
            "\n",
            "no changes added to commit (use \"git add\" and/or \"git commit -a\")\n"
          ],
          "name": "stdout"
        }
      ]
    },
    {
      "cell_type": "code",
      "metadata": {
        "id": "frdgDOqB5Go8"
      },
      "source": [
        "!echo \"Desde los inicios de ...\" >> introduccion.txt"
      ],
      "execution_count": null,
      "outputs": []
    },
    {
      "cell_type": "code",
      "metadata": {
        "id": "ZbZoA-wB5Go8",
        "outputId": "19d63539-0b10-45cc-ea6c-08dd747bf84e"
      },
      "source": [
        "!git status"
      ],
      "execution_count": null,
      "outputs": [
        {
          "output_type": "stream",
          "text": [
            "On branch master\n",
            "Changes not staged for commit:\n",
            "  (use \"git add <file>...\" to update what will be committed)\n",
            "  (use \"git restore <file>...\" to discard changes in working directory)\n",
            "\tmodified:   conclusion.txt\n",
            "\tmodified:   resumen.txt\n",
            "\n",
            "Untracked files:\n",
            "  (use \"git add <file>...\" to include in what will be committed)\n",
            "\tintroduccion.txt\n",
            "\n",
            "no changes added to commit (use \"git add\" and/or \"git commit -a\")\n"
          ],
          "name": "stdout"
        }
      ]
    },
    {
      "cell_type": "code",
      "metadata": {
        "id": "bkDDU7mO5Go8"
      },
      "source": [
        "!echo \"... se presentará en las conclusiones.\" >> introduccion.txt"
      ],
      "execution_count": null,
      "outputs": []
    },
    {
      "cell_type": "code",
      "metadata": {
        "id": "_kfByseK5Go9",
        "outputId": "37f472b6-c18d-4b22-a7b1-82599e1905b0"
      },
      "source": [
        "!git status"
      ],
      "execution_count": null,
      "outputs": [
        {
          "output_type": "stream",
          "text": [
            "On branch master\n",
            "Changes not staged for commit:\n",
            "  (use \"git add <file>...\" to update what will be committed)\n",
            "  (use \"git restore <file>...\" to discard changes in working directory)\n",
            "\tmodified:   conclusion.txt\n",
            "\tmodified:   resumen.txt\n",
            "\n",
            "Untracked files:\n",
            "  (use \"git add <file>...\" to include in what will be committed)\n",
            "\tintroduccion.txt\n",
            "\n",
            "no changes added to commit (use \"git add\" and/or \"git commit -a\")\n"
          ],
          "name": "stdout"
        }
      ]
    },
    {
      "cell_type": "markdown",
      "metadata": {
        "id": "-8pMd5RP5Go9"
      },
      "source": [
        "![image-3.png](attachment:image-3.png)"
      ]
    },
    {
      "cell_type": "code",
      "metadata": {
        "id": "kgZ_zbJJ5Go9"
      },
      "source": [
        "!git add conclusion.txt"
      ],
      "execution_count": null,
      "outputs": []
    },
    {
      "cell_type": "code",
      "metadata": {
        "id": "5YvCwo-_5Go9",
        "outputId": "6bf903ce-261c-4c54-ae66-e8a4968af597"
      },
      "source": [
        "!git status"
      ],
      "execution_count": null,
      "outputs": [
        {
          "output_type": "stream",
          "text": [
            "On branch master\n",
            "Changes to be committed:\n",
            "  (use \"git restore --staged <file>...\" to unstage)\n",
            "\tmodified:   conclusion.txt\n",
            "\n",
            "Changes not staged for commit:\n",
            "  (use \"git add <file>...\" to update what will be committed)\n",
            "  (use \"git restore <file>...\" to discard changes in working directory)\n",
            "\tmodified:   resumen.txt\n",
            "\n",
            "Untracked files:\n",
            "  (use \"git add <file>...\" to include in what will be committed)\n",
            "\tintroduccion.txt\n",
            "\n"
          ],
          "name": "stdout"
        }
      ]
    },
    {
      "cell_type": "code",
      "metadata": {
        "id": "KJCIn54P5Go-"
      },
      "source": [
        "!echo \"... superando en tres de los cinco ...\" >> conclusion.txt"
      ],
      "execution_count": null,
      "outputs": []
    },
    {
      "cell_type": "code",
      "metadata": {
        "id": "Ys3LJ-9E5Go-"
      },
      "source": [
        "!type conclusion.txt"
      ],
      "execution_count": null,
      "outputs": []
    },
    {
      "cell_type": "code",
      "metadata": {
        "id": "U9GA7hcL5Go-"
      },
      "source": [
        "!git status"
      ],
      "execution_count": null,
      "outputs": []
    },
    {
      "cell_type": "code",
      "metadata": {
        "id": "z1qNCOfD5Go-"
      },
      "source": [
        "!git status -s\n",
        "# ??  No rastreado (Untracked)\n",
        "# A  Preparado (Staged)\n",
        "# M  Modificado (Modified)\n",
        "    # Columna izquierda es el estado preparado\n",
        "    # Columna derecha es el estado sin preparar"
      ],
      "execution_count": null,
      "outputs": []
    },
    {
      "cell_type": "code",
      "metadata": {
        "id": "EICEpfXJ5Go-"
      },
      "source": [
        "!git add introduccion.txt"
      ],
      "execution_count": null,
      "outputs": []
    },
    {
      "cell_type": "code",
      "metadata": {
        "id": "6bhNlglr5Go_"
      },
      "source": [
        "!git status -s"
      ],
      "execution_count": null,
      "outputs": []
    },
    {
      "cell_type": "code",
      "metadata": {
        "id": "wn2ftfyQ5Go_"
      },
      "source": [
        "!git add conclusion.txt"
      ],
      "execution_count": null,
      "outputs": []
    },
    {
      "cell_type": "code",
      "metadata": {
        "id": "HrYO2tNn5Go_"
      },
      "source": [
        "!git status -s"
      ],
      "execution_count": null,
      "outputs": []
    },
    {
      "cell_type": "code",
      "metadata": {
        "id": "KorMKKN15Go_"
      },
      "source": [
        "!git add resumen.txt"
      ],
      "execution_count": null,
      "outputs": []
    },
    {
      "cell_type": "code",
      "metadata": {
        "id": "Zct0fkbc5Go_"
      },
      "source": [
        "!git status -s"
      ],
      "execution_count": null,
      "outputs": []
    },
    {
      "cell_type": "code",
      "metadata": {
        "id": "1dBpExez5Go_"
      },
      "source": [
        "!git commit -m \"Se actualizó la conclusión y el resumen con los resultados y se comenzó la introduccón\""
      ],
      "execution_count": null,
      "outputs": []
    },
    {
      "cell_type": "code",
      "metadata": {
        "id": "i8uJB_uf5GpA"
      },
      "source": [
        "!git status -s"
      ],
      "execution_count": null,
      "outputs": []
    },
    {
      "cell_type": "markdown",
      "metadata": {
        "id": "qWTqzXCM5GpA"
      },
      "source": [
        "### Guardando cambios en el Repositorio\n",
        "Pg. 24"
      ]
    },
    {
      "cell_type": "markdown",
      "metadata": {
        "id": "VsCqF5w35GpA"
      },
      "source": [
        "![image.png](attachment:image.png)"
      ]
    },
    {
      "cell_type": "code",
      "metadata": {
        "id": "g0HbtJFf5GpA"
      },
      "source": [
        "!git status"
      ],
      "execution_count": null,
      "outputs": []
    },
    {
      "cell_type": "markdown",
      "metadata": {
        "id": "rSB8iEO75GpA"
      },
      "source": [
        "## Ver el Historial de Confirmaciones\n",
        "Pg. 37"
      ]
    },
    {
      "cell_type": "code",
      "metadata": {
        "id": "JQOsArea5GpA"
      },
      "source": [
        "!git log"
      ],
      "execution_count": null,
      "outputs": []
    },
    {
      "cell_type": "markdown",
      "metadata": {
        "id": "cMCBn04Y5GpB"
      },
      "source": [
        "### Ignorar archivos\n",
        "Pg. 29\n",
        "\n",
        "En el archivo  `.gitignore` se colocan los archivos a ignorar\n",
        " "
      ]
    },
    {
      "cell_type": "markdown",
      "metadata": {
        "id": "CX7FYg4t5GpB"
      },
      "source": [
        "### Ver los Cambios Preparados y No Preparados \n",
        "Pg. 30\n",
        "\n",
        "`git diff --staged`"
      ]
    },
    {
      "cell_type": "markdown",
      "metadata": {
        "id": "tEqS8lEe5GpB"
      },
      "source": [
        "### Confirmar tus Cambios \n",
        "Pg. 33\n",
        "\n",
        "`git commit`\n",
        "\n",
        "![image.png](attachment:image.png)"
      ]
    },
    {
      "cell_type": "markdown",
      "metadata": {
        "id": "ZPbXQSp-5GpC"
      },
      "source": [
        "### Saltar el Área de Preparación \n",
        "Pg. 34\n",
        "\n",
        "`git commit -a -m \"added new benchmarks\"`\n",
        "\n",
        "![image.png](attachment:image.png)"
      ]
    },
    {
      "cell_type": "markdown",
      "metadata": {
        "id": "HjSQJ-re5GpC"
      },
      "source": [
        "### Eliminar Archivos \n",
        "Pg. 35\n",
        "\n",
        "`git rm un_archivo`\n",
        "\n",
        "![image.png](attachment:image.png)"
      ]
    },
    {
      "cell_type": "markdown",
      "metadata": {
        "id": "pOt6LpJg5GpD"
      },
      "source": [
        "### Cambiar el Nombre de los Archivos \n",
        "Pg. 36\n",
        "\n",
        "`git mv file_from file_to`"
      ]
    },
    {
      "cell_type": "markdown",
      "metadata": {
        "id": "VMraxyUk5GpD"
      },
      "source": [
        "## Ver el Historial de Confirmaciones\n",
        "Pg. 37"
      ]
    },
    {
      "cell_type": "code",
      "metadata": {
        "id": "mHOpKyQ75GpD",
        "outputId": "6cf5fef1-34a8-4df7-d91b-0e2bd9fce2ef"
      },
      "source": [
        "!git clone https://github.com/schacon/simplegit-progit"
      ],
      "execution_count": null,
      "outputs": [
        {
          "output_type": "stream",
          "text": [
            "Cloning into 'simplegit-progit'...\n"
          ],
          "name": "stderr"
        }
      ]
    },
    {
      "cell_type": "code",
      "metadata": {
        "id": "cjGPRcY35GpE",
        "outputId": "6a56445c-fd54-426b-c320-da8251f09b0a"
      },
      "source": [
        "!dir"
      ],
      "execution_count": null,
      "outputs": [
        {
          "output_type": "stream",
          "text": [
            " El volumen de la unidad C no tiene etiqueta.\n",
            " El n£mero de serie del volumen es: 74C5-79FB\n",
            "\n",
            " Directorio de C:\\cursos\\Git_01_ver008\n",
            "\n",
            "10/03/2021  12:28 p.m.    <DIR>          .\n",
            "10/03/2021  12:28 p.m.    <DIR>          ..\n",
            "09/03/2021  11:59 p.m.    <DIR>          .ipynb_checkpoints\n",
            "10/03/2021  12:27 p.m.           626.001 Git.ipynb\n",
            "10/03/2021  12:06 a.m.    <DIR>          imagenes\n",
            "10/03/2021  12:05 a.m.                44 saludo.txt\n",
            "10/03/2021  12:28 p.m.    <DIR>          simplegit-progit\n",
            "               2 archivos        626.045 bytes\n",
            "               5 dirs  27.968.950.272 bytes libres\n"
          ],
          "name": "stdout"
        }
      ]
    },
    {
      "cell_type": "code",
      "metadata": {
        "id": "3rqVDOMD5GpE",
        "outputId": "7f7d01bd-d0b2-4e8e-9ed0-d28548d6245f"
      },
      "source": [
        "!git log"
      ],
      "execution_count": null,
      "outputs": [
        {
          "output_type": "stream",
          "text": [
            "fatal: not a git repository (or any of the parent directories): .git\n"
          ],
          "name": "stderr"
        }
      ]
    },
    {
      "cell_type": "code",
      "metadata": {
        "id": "8ZDQnJ2v5GpE",
        "outputId": "bec6eb68-edc1-4366-8bde-7ac375d1a2b2"
      },
      "source": [
        "%cd simplegit-progit"
      ],
      "execution_count": null,
      "outputs": [
        {
          "output_type": "stream",
          "text": [
            "C:\\cursos\\Git_01_ver008\\simplegit-progit\n"
          ],
          "name": "stdout"
        }
      ]
    },
    {
      "cell_type": "code",
      "metadata": {
        "id": "Y8qGr2Jc5GpE",
        "outputId": "6bc319cb-fa6f-4e08-db08-056e15c995ce"
      },
      "source": [
        "!dir"
      ],
      "execution_count": null,
      "outputs": [
        {
          "output_type": "stream",
          "text": [
            " El volumen de la unidad C no tiene etiqueta.\n",
            " El n£mero de serie del volumen es: 74C5-79FB\n",
            "\n",
            " Directorio de C:\\cursos\\Git_01_ver008\\simplegit-progit\n",
            "\n",
            "10/03/2021  12:28 p.m.    <DIR>          .\n",
            "10/03/2021  12:28 p.m.    <DIR>          ..\n",
            "10/03/2021  12:28 p.m.    <DIR>          lib\n",
            "10/03/2021  12:28 p.m.               615 Rakefile\n",
            "10/03/2021  12:28 p.m.               130 README\n",
            "               2 archivos            745 bytes\n",
            "               3 dirs  27.968.356.352 bytes libres\n"
          ],
          "name": "stdout"
        }
      ]
    },
    {
      "cell_type": "code",
      "metadata": {
        "id": "snZDZELT5GpF",
        "outputId": "1223f918-b96c-4d92-afa9-648f7ab6f5c2"
      },
      "source": [
        "!dir lib"
      ],
      "execution_count": null,
      "outputs": [
        {
          "output_type": "stream",
          "text": [
            " El volumen de la unidad C no tiene etiqueta.\n",
            " El n£mero de serie del volumen es: 74C5-79FB\n",
            "\n",
            " Directorio de C:\\cursos\\Git_01_ver008\\simplegit-progit\\lib\n",
            "\n",
            "10/03/2021  12:28 p.m.    <DIR>          .\n",
            "10/03/2021  12:28 p.m.    <DIR>          ..\n",
            "10/03/2021  12:28 p.m.               375 simplegit.rb\n",
            "               1 archivos            375 bytes\n",
            "               2 dirs  27.968.045.056 bytes libres\n"
          ],
          "name": "stdout"
        }
      ]
    },
    {
      "cell_type": "code",
      "metadata": {
        "id": "YbmAyWKr5GpF",
        "outputId": "e2678ed5-da71-40be-d058-99c99539d034"
      },
      "source": [
        "!git log"
      ],
      "execution_count": null,
      "outputs": [
        {
          "output_type": "stream",
          "text": [
            "commit ca82a6dff817ec66f44342007202690a93763949\n",
            "Author: Scott Chacon <schacon@gmail.com>\n",
            "Date:   Mon Mar 17 21:52:11 2008 -0700\n",
            "\n",
            "    changed the verison number\n",
            "\n",
            "commit 085bb3bcb608e1e8451d4b2432f8ecbe6306e7e7\n",
            "Author: Scott Chacon <schacon@gmail.com>\n",
            "Date:   Sat Mar 15 16:40:33 2008 -0700\n",
            "\n",
            "    removed unnecessary test code\n",
            "\n",
            "commit a11bef06a3f659402fe7563abf99ad00de2209e6\n",
            "Author: Scott Chacon <schacon@gmail.com>\n",
            "Date:   Sat Mar 15 10:31:28 2008 -0700\n",
            "\n",
            "    first commit\n"
          ],
          "name": "stdout"
        }
      ]
    },
    {
      "cell_type": "code",
      "metadata": {
        "id": "8kIkPz2Y5GpF",
        "outputId": "a1366177-e699-4573-f22d-0ee22b19fbaf"
      },
      "source": [
        "!git log -p -2"
      ],
      "execution_count": null,
      "outputs": [
        {
          "output_type": "stream",
          "text": [
            "commit ca82a6dff817ec66f44342007202690a93763949\n",
            "Author: Scott Chacon <schacon@gmail.com>\n",
            "Date:   Mon Mar 17 21:52:11 2008 -0700\n",
            "\n",
            "    changed the verison number\n",
            "\n",
            "diff --git a/Rakefile b/Rakefile\n",
            "index a874b73..8f94139 100644\n",
            "--- a/Rakefile\n",
            "+++ b/Rakefile\n",
            "@@ -5,7 +5,7 @@ require 'rake/gempackagetask'\n",
            " spec = Gem::Specification.new do |s|\n",
            "     s.platform  =   Gem::Platform::RUBY\n",
            "     s.name      =   \"simplegit\"\n",
            "-    s.version   =   \"0.1.0\"\n",
            "+    s.version   =   \"0.1.1\"\n",
            "     s.author    =   \"Scott Chacon\"\n",
            "     s.email     =   \"schacon@gmail.com\"\n",
            "     s.summary   =   \"A simple gem for using Git in Ruby code.\"\n",
            "\n",
            "commit 085bb3bcb608e1e8451d4b2432f8ecbe6306e7e7\n",
            "Author: Scott Chacon <schacon@gmail.com>\n",
            "Date:   Sat Mar 15 16:40:33 2008 -0700\n",
            "\n",
            "    removed unnecessary test code\n",
            "\n",
            "diff --git a/lib/simplegit.rb b/lib/simplegit.rb\n",
            "index a0a60ae..47c6340 100644\n",
            "--- a/lib/simplegit.rb\n",
            "+++ b/lib/simplegit.rb\n",
            "@@ -18,8 +18,3 @@ class SimpleGit\n",
            "     end\n",
            "   \n",
            " end\n",
            "-\n",
            "-if $0 == __FILE__\n",
            "-  git = SimpleGit.new\n",
            "-  puts git.show\n",
            "-end\n",
            "\\ No newline at end of file\n"
          ],
          "name": "stdout"
        }
      ]
    },
    {
      "cell_type": "markdown",
      "metadata": {
        "id": "c9cUiwyp5GpF"
      },
      "source": [
        "## Trabajar con remotos\n"
      ]
    },
    {
      "cell_type": "markdown",
      "metadata": {
        "id": "dGEYogoP5GpF"
      },
      "source": [
        ""
      ]
    },
    {
      "cell_type": "markdown",
      "metadata": {
        "id": "6daallbs5GpJ"
      },
      "source": [
        ""
      ]
    },
    {
      "cell_type": "markdown",
      "metadata": {
        "id": "LT8UZFPw5GpJ"
      },
      "source": [
        ""
      ]
    },
    {
      "cell_type": "markdown",
      "metadata": {
        "id": "RDuLygHn5GpK"
      },
      "source": [
        ""
      ]
    },
    {
      "cell_type": "markdown",
      "metadata": {
        "id": "QMO-Y8PW5GpK"
      },
      "source": [
        ""
      ]
    },
    {
      "cell_type": "markdown",
      "metadata": {
        "id": "buoU7JCG5GpK"
      },
      "source": [
        ""
      ]
    },
    {
      "cell_type": "markdown",
      "metadata": {
        "id": "RAz_1Axk5GpK"
      },
      "source": [
        ""
      ]
    },
    {
      "cell_type": "markdown",
      "metadata": {
        "id": "lZF-1dcn5GpK"
      },
      "source": [
        ""
      ]
    },
    {
      "cell_type": "markdown",
      "metadata": {
        "id": "s3IjAnBy5GpK"
      },
      "source": [
        ""
      ]
    },
    {
      "cell_type": "markdown",
      "metadata": {
        "id": "VO4_GpuY5GpL"
      },
      "source": [
        ""
      ]
    },
    {
      "cell_type": "markdown",
      "metadata": {
        "id": "IxfQbwjD5GpL"
      },
      "source": [
        ""
      ]
    },
    {
      "cell_type": "markdown",
      "metadata": {
        "id": "-vWLrXui5GpL"
      },
      "source": [
        ""
      ]
    },
    {
      "cell_type": "markdown",
      "metadata": {
        "id": "YKvDinVb5GpL"
      },
      "source": [
        ""
      ]
    },
    {
      "cell_type": "markdown",
      "metadata": {
        "id": "xJ4O95aW5GpL"
      },
      "source": [
        ""
      ]
    },
    {
      "cell_type": "markdown",
      "metadata": {
        "id": "9i_y0wCy5GpL"
      },
      "source": [
        ""
      ]
    },
    {
      "cell_type": "markdown",
      "metadata": {
        "id": "dgp7hG5X5GpL"
      },
      "source": [
        ""
      ]
    },
    {
      "cell_type": "markdown",
      "metadata": {
        "id": "KXqvB-Vq5GpM"
      },
      "source": [
        ""
      ]
    },
    {
      "cell_type": "code",
      "metadata": {
        "id": "Wg_cuRaR5GpM"
      },
      "source": [
        ""
      ],
      "execution_count": null,
      "outputs": []
    },
    {
      "cell_type": "code",
      "metadata": {
        "id": "H4xyVUHr5GpM"
      },
      "source": [
        ""
      ],
      "execution_count": null,
      "outputs": []
    },
    {
      "cell_type": "code",
      "metadata": {
        "id": "3msdQRML5GpM"
      },
      "source": [
        ""
      ],
      "execution_count": null,
      "outputs": []
    },
    {
      "cell_type": "code",
      "metadata": {
        "id": "E4_MzFhv5GpM"
      },
      "source": [
        ""
      ],
      "execution_count": null,
      "outputs": []
    },
    {
      "cell_type": "code",
      "metadata": {
        "id": "bp36bMWu5GpN"
      },
      "source": [
        ""
      ],
      "execution_count": null,
      "outputs": []
    },
    {
      "cell_type": "code",
      "metadata": {
        "id": "qzCBkHW75GpN"
      },
      "source": [
        ""
      ],
      "execution_count": null,
      "outputs": []
    }
  ]
}