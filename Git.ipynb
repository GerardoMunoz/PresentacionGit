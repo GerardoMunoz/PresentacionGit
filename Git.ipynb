{
  "nbformat": 4,
  "nbformat_minor": 0,
  "metadata": {
    "kernelspec": {
      "display_name": "Python 3",
      "language": "python",
      "name": "python3"
    },
    "language_info": {
      "codemirror_mode": {
        "name": "ipython",
        "version": 3
      },
      "file_extension": ".py",
      "mimetype": "text/x-python",
      "name": "python",
      "nbconvert_exporter": "python",
      "pygments_lexer": "ipython3",
      "version": "3.9.2"
    },
    "colab": {
      "name": "Git.ipynb",
      "provenance": []
    }
  },
  "cells": [
    {
      "cell_type": "markdown",
      "metadata": {
        "id": "KtoMsgQiDmz8"
      },
      "source": [
        "# Comandos de Windows/Linux desde Jupyter\n",
        "\n",
        "El signo de admiración (!) permite ejecutar comandos del sistema operativo directamente dese la celda de código. Sin embargo, como una libreta de Jupyter se puede ejecutar en diferentes sistemas operativos entonces estos comandos pueden variar. Para este ejemplo usaré los comandos de Windows, en caso de tener algún problema lo invito a consultar el respectivo comando en su sistema operativo. "
      ]
    },
    {
      "cell_type": "code",
      "metadata": {
        "scrolled": true,
        "id": "1C9hM7ZxDm0e",
        "outputId": "a104925e-6506-46be-f779-f50c9c2e46b5"
      },
      "source": [
        "# Listar los elementos del directorio\n",
        "!dir"
      ],
      "execution_count": null,
      "outputs": [
        {
          "output_type": "stream",
          "text": [
            " El volumen de la unidad C no tiene etiqueta.\n",
            " El n£mero de serie del volumen es: 74C5-79FB\n",
            "\n",
            " Directorio de C:\\cursos\\Git_01_ver008\n",
            "\n",
            "09/03/2021  11:59 p.m.    <DIR>          .\n",
            "09/03/2021  11:59 p.m.    <DIR>          ..\n",
            "09/03/2021  11:57 p.m.    <DIR>          .ipynb_checkpoints\n",
            "09/03/2021  11:59 p.m.           597.901 Git.ipynb\n",
            "               1 archivos        597.901 bytes\n",
            "               3 dirs  28.014.686.208 bytes libres\n"
          ],
          "name": "stdout"
        }
      ]
    },
    {
      "cell_type": "code",
      "metadata": {
        "id": "qLje2_2DDm0o",
        "outputId": "2307766b-df0e-410e-92bd-859a7fbabf3e"
      },
      "source": [
        "# Listar los elementos del directorio incluyendo archivos ocultos\n",
        "!dir /a"
      ],
      "execution_count": null,
      "outputs": [
        {
          "output_type": "stream",
          "text": [
            " El volumen de la unidad C no tiene etiqueta.\n",
            " El n£mero de serie del volumen es: 74C5-79FB\n",
            "\n",
            " Directorio de C:\\cursos\\Git_01_ver008\n",
            "\n",
            "09/03/2021  11:59 p.m.    <DIR>          .\n",
            "09/03/2021  11:59 p.m.    <DIR>          ..\n",
            "09/03/2021  11:57 p.m.    <DIR>          .ipynb_checkpoints\n",
            "09/03/2021  11:59 p.m.           597.901 Git.ipynb\n",
            "               1 archivos        597.901 bytes\n",
            "               3 dirs  27.995.541.504 bytes libres\n"
          ],
          "name": "stdout"
        }
      ]
    },
    {
      "cell_type": "code",
      "metadata": {
        "id": "2cyQ6TcqDm0w",
        "outputId": "745f169f-f31c-45ab-9ecf-37fbbc70e8c1"
      },
      "source": [
        "# Presentar en la consola\n",
        "!echo Hola Mundo"
      ],
      "execution_count": null,
      "outputs": [
        {
          "output_type": "stream",
          "text": [
            "Hola Mundo\n"
          ],
          "name": "stdout"
        }
      ]
    },
    {
      "cell_type": "code",
      "metadata": {
        "id": "RHPqaiFTDm0z"
      },
      "source": [
        "# El símbolo mayor que (>) permite enviar\n",
        "# la salida de un comando a un archivo nuevo\n",
        "!echo Estimado mundo > saludo.txt"
      ],
      "execution_count": null,
      "outputs": []
    },
    {
      "cell_type": "code",
      "metadata": {
        "id": "QMVWrVdYDm01"
      },
      "source": [
        "# El doble símbolo mayor que (>>) permite añadir\n",
        "# la salida de un comando a un archivo existente\n",
        "!echo reciba un cordial saludo >> saludo.txt"
      ],
      "execution_count": null,
      "outputs": []
    },
    {
      "cell_type": "code",
      "metadata": {
        "id": "PlF93MCIDm03",
        "outputId": "11848988-6dad-478b-f971-4ce41ecf5ddf"
      },
      "source": [
        "# Ver el contenido de un archivo\n",
        "!type saludo.txt"
      ],
      "execution_count": null,
      "outputs": [
        {
          "output_type": "stream",
          "text": [
            "Estimado mundo \n",
            "reciba un cordial saludo \n"
          ],
          "name": "stdout"
        }
      ]
    },
    {
      "cell_type": "code",
      "metadata": {
        "id": "vpibaXHyDm05"
      },
      "source": [
        "# Crear un directorio\n",
        "!mkdir imagenes"
      ],
      "execution_count": null,
      "outputs": []
    },
    {
      "cell_type": "code",
      "metadata": {
        "id": "QqY7a2DcDm07",
        "outputId": "47cdd752-c32a-4880-c83b-e1d6b38cb78e"
      },
      "source": [
        "!dir"
      ],
      "execution_count": null,
      "outputs": [
        {
          "output_type": "stream",
          "text": [
            " El volumen de la unidad C no tiene etiqueta.\n",
            " El n£mero de serie del volumen es: 74C5-79FB\n",
            "\n",
            " Directorio de C:\\cursos\\Git_01_ver008\n",
            "\n",
            "10/03/2021  12:06 a.m.    <DIR>          .\n",
            "10/03/2021  12:06 a.m.    <DIR>          ..\n",
            "09/03/2021  11:59 p.m.    <DIR>          .ipynb_checkpoints\n",
            "10/03/2021  12:05 a.m.           599.435 Git.ipynb\n",
            "10/03/2021  12:06 a.m.    <DIR>          imagenes\n",
            "10/03/2021  12:05 a.m.                44 saludo.txt\n",
            "               2 archivos        599.479 bytes\n",
            "               4 dirs  27.970.236.416 bytes libres\n"
          ],
          "name": "stdout"
        }
      ]
    },
    {
      "cell_type": "code",
      "metadata": {
        "id": "2-vfK6OpDm0-",
        "outputId": "6a9cebf4-e5c7-47e5-d705-0f5ec8469511"
      },
      "source": [
        "#ejecutar comandos git\n",
        "!git"
      ],
      "execution_count": null,
      "outputs": [
        {
          "output_type": "stream",
          "text": [
            "usage: git [--version] [--help] [-C <path>] [-c <name>=<value>]\n",
            "           [--exec-path[=<path>]] [--html-path] [--man-path] [--info-path]\n",
            "           [-p | --paginate | -P | --no-pager] [--no-replace-objects] [--bare]\n",
            "           [--git-dir=<path>] [--work-tree=<path>] [--namespace=<name>]\n",
            "           <command> [<args>]\n",
            "\n",
            "These are common Git commands used in various situations:\n",
            "\n",
            "start a working area (see also: git help tutorial)\n",
            "   clone             Clone a repository into a new directory\n",
            "   init              Create an empty Git repository or reinitialize an existing one\n",
            "\n",
            "work on the current change (see also: git help everyday)\n",
            "   add               Add file contents to the index\n",
            "   mv                Move or rename a file, a directory, or a symlink\n",
            "   restore           Restore working tree files\n",
            "   rm                Remove files from the working tree and from the index\n",
            "   sparse-checkout   Initialize and modify the sparse-checkout\n",
            "\n",
            "examine the history and state (see also: git help revisions)\n",
            "   bisect            Use binary search to find the commit that introduced a bug\n",
            "   diff              Show changes between commits, commit and working tree, etc\n",
            "   grep              Print lines matching a pattern\n",
            "   log               Show commit logs\n",
            "   show              Show various types of objects\n",
            "   status            Show the working tree status\n",
            "\n",
            "grow, mark and tweak your common history\n",
            "   branch            List, create, or delete branches\n",
            "   commit            Record changes to the repository\n",
            "   merge             Join two or more development histories together\n",
            "   rebase            Reapply commits on top of another base tip\n",
            "   reset             Reset current HEAD to the specified state\n",
            "   switch            Switch branches\n",
            "   tag               Create, list, delete or verify a tag object signed with GPG\n",
            "\n",
            "collaborate (see also: git help workflows)\n",
            "   fetch             Download objects and refs from another repository\n",
            "   pull              Fetch from and integrate with another repository or a local branch\n",
            "   push              Update remote refs along with associated objects\n",
            "\n",
            "'git help -a' and 'git help -g' list available subcommands and some\n",
            "concept guides. See 'git help <command>' or 'git help <concept>'\n",
            "to read about a specific subcommand or concept.\n",
            "See 'git help git' for an overview of the system.\n"
          ],
          "name": "stdout"
        }
      ]
    },
    {
      "cell_type": "code",
      "metadata": {
        "id": "ADzNCvzkDm1A",
        "outputId": "5cbff62b-4925-4686-a3aa-6d0b34449c19"
      },
      "source": [
        "# Para cambiar de directorio se requiere usar \n",
        "# un comando mágico de Jupyter. \n",
        "# Para esto hay que usar el símbolo de porcentaje %\n",
        "%cd imagenes"
      ],
      "execution_count": null,
      "outputs": [
        {
          "output_type": "stream",
          "text": [
            "C:\\cursos\\Git_01_ver008\\imagenes\n"
          ],
          "name": "stdout"
        }
      ]
    },
    {
      "cell_type": "code",
      "metadata": {
        "id": "qavq3pT6Dm1D",
        "outputId": "8c2f220a-85af-4ce5-baed-3ffdbc7d1949"
      },
      "source": [
        "!dir"
      ],
      "execution_count": null,
      "outputs": [
        {
          "output_type": "stream",
          "text": [
            " El volumen de la unidad C no tiene etiqueta.\n",
            " El n£mero de serie del volumen es: 74C5-79FB\n",
            "\n",
            " Directorio de C:\\cursos\\Git_01_ver008\\imagenes\n",
            "\n",
            "10/03/2021  12:06 a.m.    <DIR>          .\n",
            "10/03/2021  12:06 a.m.    <DIR>          ..\n",
            "               0 archivos              0 bytes\n",
            "               2 dirs  27.953.393.664 bytes libres\n"
          ],
          "name": "stdout"
        }
      ]
    },
    {
      "cell_type": "code",
      "metadata": {
        "id": "YmVEhW9HDm1G",
        "outputId": "87877a4c-bc29-41c7-b1bd-1fb92287be12"
      },
      "source": [
        "%cd .."
      ],
      "execution_count": null,
      "outputs": [
        {
          "output_type": "stream",
          "text": [
            "C:\\cursos\\Git_01_ver008\n"
          ],
          "name": "stdout"
        }
      ]
    },
    {
      "cell_type": "code",
      "metadata": {
        "id": "E19KE47fDm1I",
        "outputId": "26723cfb-2e59-4378-8e0a-026f678bbe56"
      },
      "source": [
        "!dir"
      ],
      "execution_count": null,
      "outputs": [
        {
          "output_type": "stream",
          "text": [
            " El volumen de la unidad C no tiene etiqueta.\n",
            " El n£mero de serie del volumen es: 74C5-79FB\n",
            "\n",
            " Directorio de C:\\cursos\\Git_01_ver008\n",
            "\n",
            "10/03/2021  12:07 a.m.    <DIR>          .\n",
            "10/03/2021  12:07 a.m.    <DIR>          ..\n",
            "09/03/2021  11:59 p.m.    <DIR>          .ipynb_checkpoints\n",
            "10/03/2021  12:07 a.m.           603.103 Git.ipynb\n",
            "10/03/2021  12:06 a.m.    <DIR>          imagenes\n",
            "10/03/2021  12:05 a.m.                44 saludo.txt\n",
            "               2 archivos        603.147 bytes\n",
            "               4 dirs  27.949.248.512 bytes libres\n"
          ],
          "name": "stdout"
        }
      ]
    },
    {
      "cell_type": "markdown",
      "metadata": {
        "id": "8ynkCbzcDm1K"
      },
      "source": [
        "# Git \n",
        "\n",
        "\n",
        "* Basado en el libro 'Pro Git'\n",
        "* Escrito por 'Scott Chacon' y por  'Ben Straub'\n",
        "* Versión 2.1.22, 2021-02-09\n",
        "* https://git-scm.com/book/es/v2"
      ]
    },
    {
      "cell_type": "markdown",
      "metadata": {
        "id": "tOUHTb6bDm1M"
      },
      "source": [
        "## Acerca del Control de Versiones\n",
        "Pgs. 9-16"
      ]
    },
    {
      "cell_type": "markdown",
      "metadata": {
        "id": "JlFDUNZbDm1N"
      },
      "source": [
        "![image.png](attachment:image.png)"
      ]
    },
    {
      "cell_type": "markdown",
      "metadata": {
        "id": "eJWXLxegDm1P"
      },
      "source": [
        "![image.png](attachment:image.png)"
      ]
    },
    {
      "cell_type": "markdown",
      "metadata": {
        "id": "PccTk4-fDm1Q"
      },
      "source": [
        "![image.png](attachment:image.png)"
      ]
    },
    {
      "cell_type": "markdown",
      "metadata": {
        "id": "042fhFq9Dm1R"
      },
      "source": [
        "![image.png](attachment:image.png)"
      ]
    },
    {
      "cell_type": "markdown",
      "metadata": {
        "id": "ge-S1U7DDm1S"
      },
      "source": [
        "(pg 16)\n",
        "\n",
        "Git tiene tres estados principales en los que se pueden encontrar tus archivos: \n",
        "* confirmado (**committed**), significa que los datos están almacenados de manera segura en tu base de datos local\n",
        "* modificado (**modified**), significa que has modificado el archivo, pero todavía no lo has confirmado a tu base de datos.\n",
        "* preparado (**staged**), significa que has marcado un archivo modificado en su versión actual para que vaya en tu próxima confirmación.\n"
      ]
    },
    {
      "cell_type": "markdown",
      "metadata": {
        "id": "UHgBqFkHDm1V"
      },
      "source": [
        "![image.png](attachment:image.png)"
      ]
    },
    {
      "cell_type": "markdown",
      "metadata": {
        "id": "KbiWSSV2Dm1W"
      },
      "source": [
        "## Configurando Git por primera vez\n",
        "### Tu Identidad\n",
        "Pg. 20"
      ]
    },
    {
      "cell_type": "code",
      "metadata": {
        "id": "JzNiiRXoDm1X"
      },
      "source": [
        "!git config  --global user.name \"Mi Nombre\""
      ],
      "execution_count": null,
      "outputs": []
    },
    {
      "cell_type": "code",
      "metadata": {
        "id": "fZThapTUDm1Y"
      },
      "source": [
        "!git config  --global user.email micorreo@ejemplo.com"
      ],
      "execution_count": null,
      "outputs": []
    },
    {
      "cell_type": "code",
      "metadata": {
        "id": "DLNOwHcIDm1a",
        "outputId": "0c816096-e81e-4e25-be98-678052cf9908"
      },
      "source": [
        "!git config --list "
      ],
      "execution_count": null,
      "outputs": [
        {
          "output_type": "stream",
          "text": [
            "diff.astextplain.textconv=astextplain\n",
            "filter.lfs.clean=git-lfs clean -- %f\n",
            "filter.lfs.smudge=git-lfs smudge -- %f\n",
            "filter.lfs.process=git-lfs filter-process\n",
            "filter.lfs.required=true\n",
            "http.sslbackend=openssl\n",
            "http.sslcainfo=C:/Program Files/Git/mingw64/ssl/certs/ca-bundle.crt\n",
            "core.autocrlf=true\n",
            "core.fscache=true\n",
            "core.symlinks=false\n",
            "pull.rebase=false\n",
            "credential.helper=manager-core\n",
            "credential.https://dev.azure.com.usehttppath=true\n",
            "init.defaultbranch=master\n",
            "core.editor=\"C:\\Users\\Azul\\AppData\\Local\\Programs\\Microsoft VS Code\\Code.exe\" --wait\n",
            "user.name=Mi Nombre\n",
            "user.email=micorreo@ejemplo.com\n"
          ],
          "name": "stdout"
        }
      ]
    },
    {
      "cell_type": "code",
      "metadata": {
        "id": "1kGR2DuGDm1b",
        "outputId": "86b3ed24-f4bd-43ce-eed4-37063db9feb4"
      },
      "source": [
        "!git config user.name"
      ],
      "execution_count": null,
      "outputs": [
        {
          "output_type": "stream",
          "text": [
            "Mi Nombre\n"
          ],
          "name": "stdout"
        }
      ]
    },
    {
      "cell_type": "code",
      "metadata": {
        "id": "stcnyUauDm1d",
        "outputId": "1b392ceb-b12c-4bff-ccbc-1014cd22f234"
      },
      "source": [
        "!git config user.email"
      ],
      "execution_count": null,
      "outputs": [
        {
          "output_type": "stream",
          "text": [
            "micorreo@ejemplo.com\n"
          ],
          "name": "stdout"
        }
      ]
    },
    {
      "cell_type": "markdown",
      "metadata": {
        "id": "sAEsvNTuDm1g"
      },
      "source": [
        "### Tu Editor\n",
        "Pg. 21\n",
        "\n",
        "Al confirmar los cambios (`commit`) es necesario documentar los cambios realizados. Por tal motivo esta instrucción abre un editor de texto que fue configurado en la instalación. Está acción no es compatible con todas las implementaciones de Jupyter. Por tal motivo en este curso evitaremos en lo posible abrir un editor de texto externo. Para lo cual utilizaremos la instrucción \n",
        "\n",
        "`commit -m \"Aquí escribimos la documentación del cambio\"`\n",
        "\n",
        "que no requiere abrir el editor externo, sino que incluye la documentación en el mismo comando.\n",
        "\n",
        "En todo caso, yo configuré en la instalación el editor VS Code, lo cual se aprecia en la configuración \n",
        "\n",
        "`core.editor=\"C:\\Users\\Azul\\AppData\\Local\\Programs\\Microsoft VS Code\\Code.exe\" --wait`\n",
        "\n",
        "Por defecto está un editor de Linux que requiere comandos de teclado. Es posible cambiar el editor con el comando \n",
        "\n",
        "`git config --global core.editor `editor_a_usar\n"
      ]
    },
    {
      "cell_type": "markdown",
      "metadata": {
        "id": "VLmurJkjDm1j"
      },
      "source": [
        "### ¿Cómo obtener ayuda?\n",
        "Pg. 22"
      ]
    },
    {
      "cell_type": "code",
      "metadata": {
        "id": "VPWFSytKDm1l",
        "outputId": "d0be7164-bac3-4905-8309-2a1ff58223ea"
      },
      "source": [
        "!git help"
      ],
      "execution_count": null,
      "outputs": [
        {
          "output_type": "stream",
          "text": [
            "usage: git [--version] [--help] [-C <path>] [-c <name>=<value>]\n",
            "           [--exec-path[=<path>]] [--html-path] [--man-path] [--info-path]\n",
            "           [-p | --paginate | -P | --no-pager] [--no-replace-objects] [--bare]\n",
            "           [--git-dir=<path>] [--work-tree=<path>] [--namespace=<name>]\n",
            "           <command> [<args>]\n",
            "\n",
            "These are common Git commands used in various situations:\n",
            "\n",
            "start a working area (see also: git help tutorial)\n",
            "   clone             Clone a repository into a new directory\n",
            "   init              Create an empty Git repository or reinitialize an existing one\n",
            "\n",
            "work on the current change (see also: git help everyday)\n",
            "   add               Add file contents to the index\n",
            "   mv                Move or rename a file, a directory, or a symlink\n",
            "   restore           Restore working tree files\n",
            "   rm                Remove files from the working tree and from the index\n",
            "   sparse-checkout   Initialize and modify the sparse-checkout\n",
            "\n",
            "examine the history and state (see also: git help revisions)\n",
            "   bisect            Use binary search to find the commit that introduced a bug\n",
            "   diff              Show changes between commits, commit and working tree, etc\n",
            "   grep              Print lines matching a pattern\n",
            "   log               Show commit logs\n",
            "   show              Show various types of objects\n",
            "   status            Show the working tree status\n",
            "\n",
            "grow, mark and tweak your common history\n",
            "   branch            List, create, or delete branches\n",
            "   commit            Record changes to the repository\n",
            "   merge             Join two or more development histories together\n",
            "   rebase            Reapply commits on top of another base tip\n",
            "   reset             Reset current HEAD to the specified state\n",
            "   switch            Switch branches\n",
            "   tag               Create, list, delete or verify a tag object signed with GPG\n",
            "\n",
            "collaborate (see also: git help workflows)\n",
            "   fetch             Download objects and refs from another repository\n",
            "   pull              Fetch from and integrate with another repository or a local branch\n",
            "   push              Update remote refs along with associated objects\n",
            "\n",
            "'git help -a' and 'git help -g' list available subcommands and some\n",
            "concept guides. See 'git help <command>' or 'git help <concept>'\n",
            "to read about a specific subcommand or concept.\n",
            "See 'git help git' for an overview of the system.\n"
          ],
          "name": "stdout"
        }
      ]
    },
    {
      "cell_type": "code",
      "metadata": {
        "id": "xja1zveZDm1n"
      },
      "source": [
        "#!git help config #Se muestra en otra ventana del navegador"
      ],
      "execution_count": null,
      "outputs": []
    },
    {
      "cell_type": "markdown",
      "metadata": {
        "id": "dilHYFptDm1o"
      },
      "source": [
        "## Fundamentos de Git\n",
        "Pgs. 24 - 57\n",
        "### Clonando un repositorio existente\n",
        "Pg. 23"
      ]
    },
    {
      "cell_type": "markdown",
      "metadata": {
        "id": "AGIlIvyKDm1p"
      },
      "source": [
        "`git clone https://github.com/schacon/simplegit-progit`"
      ]
    },
    {
      "cell_type": "markdown",
      "metadata": {
        "id": "zFXkdOtoDm1q"
      },
      "source": [
        "### Inicializando un repositorio en un directorio existente\n",
        "Pg.23"
      ]
    },
    {
      "cell_type": "code",
      "metadata": {
        "id": "nw8mq5TxDm1r"
      },
      "source": [
        "!mkdir ejemplo_git"
      ],
      "execution_count": null,
      "outputs": []
    },
    {
      "cell_type": "code",
      "metadata": {
        "id": "X84FkFEoDm1s",
        "outputId": "bc6ac0cc-c61d-4549-9942-f6120cd6053f"
      },
      "source": [
        "%cd ejemplo_git"
      ],
      "execution_count": null,
      "outputs": [
        {
          "output_type": "stream",
          "text": [
            "C:\\cursos\\Git_01_ver008\\ejemplo_git\n"
          ],
          "name": "stdout"
        }
      ]
    },
    {
      "cell_type": "code",
      "metadata": {
        "id": "GFWa8bCvDm1u",
        "outputId": "5b2d231b-f15f-4bea-870b-d1fbd13ce39c"
      },
      "source": [
        "#!ls\n",
        "!dir "
      ],
      "execution_count": null,
      "outputs": [
        {
          "output_type": "stream",
          "text": [
            " El volumen de la unidad C no tiene etiqueta.\n",
            " El n£mero de serie del volumen es: 74C5-79FB\n",
            "\n",
            " Directorio de C:\\cursos\\Git_01_ver008\\ejemplo_git\n",
            "\n",
            "10/03/2021  04:33 p.m.    <DIR>          .\n",
            "10/03/2021  04:33 p.m.    <DIR>          ..\n",
            "               0 archivos              0 bytes\n",
            "               2 dirs  30.068.649.984 bytes libres\n"
          ],
          "name": "stdout"
        }
      ]
    },
    {
      "cell_type": "code",
      "metadata": {
        "id": "G6wmfDq3Dm1w",
        "outputId": "b2211629-0445-4614-c5b6-c43c57cb0ed2"
      },
      "source": [
        "!git status"
      ],
      "execution_count": null,
      "outputs": [
        {
          "output_type": "stream",
          "text": [
            "fatal: not a git repository (or any of the parent directories): .git\n"
          ],
          "name": "stderr"
        }
      ]
    },
    {
      "cell_type": "code",
      "metadata": {
        "id": "wC3CDsUSDm1x",
        "outputId": "1c745bbb-cc7f-4698-b506-edc5277e258c"
      },
      "source": [
        "!git init"
      ],
      "execution_count": null,
      "outputs": [
        {
          "output_type": "stream",
          "text": [
            "Initialized empty Git repository in C:/cursos/Git_01_ver008/ejemplo_git/.git/\n"
          ],
          "name": "stdout"
        }
      ]
    },
    {
      "cell_type": "code",
      "metadata": {
        "id": "EPQZWlpIDm1z",
        "outputId": "ed347a1b-1eba-46ec-db35-510e83ed9c03"
      },
      "source": [
        "!git status"
      ],
      "execution_count": null,
      "outputs": [
        {
          "output_type": "stream",
          "text": [
            "On branch master\n",
            "\n",
            "No commits yet\n",
            "\n",
            "nothing to commit (create/copy files and use \"git add\" to track)\n"
          ],
          "name": "stdout"
        }
      ]
    },
    {
      "cell_type": "code",
      "metadata": {
        "id": "NKXbacfZDm11",
        "outputId": "35ce4463-37d4-4d35-883f-42868b964a0e"
      },
      "source": [
        "#!ls\n",
        "!dir "
      ],
      "execution_count": null,
      "outputs": [
        {
          "output_type": "stream",
          "text": [
            " El volumen de la unidad C no tiene etiqueta.\n",
            " El n£mero de serie del volumen es: 74C5-79FB\n",
            "\n",
            " Directorio de C:\\cursos\\Git_01_ver008\\ejemplo_git\n",
            "\n",
            "10/03/2021  04:34 p.m.    <DIR>          .\n",
            "10/03/2021  04:34 p.m.    <DIR>          ..\n",
            "               0 archivos              0 bytes\n",
            "               2 dirs  30.051.782.656 bytes libres\n"
          ],
          "name": "stdout"
        }
      ]
    },
    {
      "cell_type": "code",
      "metadata": {
        "id": "TZ3JPHIeDm2A",
        "outputId": "f1064696-5f5e-4bb7-cc09-3e96df0e8963"
      },
      "source": [
        "#!ls\n",
        "!dir /a"
      ],
      "execution_count": null,
      "outputs": [
        {
          "output_type": "stream",
          "text": [
            " El volumen de la unidad C no tiene etiqueta.\n",
            " El n£mero de serie del volumen es: 74C5-79FB\n",
            "\n",
            " Directorio de C:\\cursos\\Git_01_ver008\\ejemplo_git\n",
            "\n",
            "10/03/2021  04:34 p.m.    <DIR>          .\n",
            "10/03/2021  04:34 p.m.    <DIR>          ..\n",
            "10/03/2021  04:34 p.m.    <DIR>          .git\n",
            "               0 archivos              0 bytes\n",
            "               3 dirs  30.048.444.416 bytes libres\n"
          ],
          "name": "stdout"
        }
      ]
    },
    {
      "cell_type": "code",
      "metadata": {
        "id": "ruTefgo4Dm2C",
        "outputId": "4522705d-5a08-45e0-e478-56ea2a713827"
      },
      "source": [
        "!dir .git\n"
      ],
      "execution_count": null,
      "outputs": [
        {
          "output_type": "stream",
          "text": [
            " El volumen de la unidad C no tiene etiqueta.\n",
            " El n£mero de serie del volumen es: 74C5-79FB\n",
            "\n",
            " Directorio de C:\\cursos\\Git_01_ver008\\ejemplo_git\\.git\n",
            "\n",
            "10/03/2021  04:34 p.m.               130 config\n",
            "10/03/2021  04:34 p.m.                73 description\n",
            "10/03/2021  04:34 p.m.                23 HEAD\n",
            "10/03/2021  04:34 p.m.    <DIR>          hooks\n",
            "10/03/2021  04:34 p.m.    <DIR>          info\n",
            "10/03/2021  04:34 p.m.    <DIR>          objects\n",
            "10/03/2021  04:34 p.m.    <DIR>          refs\n",
            "               3 archivos            226 bytes\n",
            "               4 dirs  30.040.842.240 bytes libres\n"
          ],
          "name": "stdout"
        }
      ]
    },
    {
      "cell_type": "markdown",
      "metadata": {
        "id": "m240T2PNDm2D"
      },
      "source": [
        "## Creando un archivo"
      ]
    },
    {
      "cell_type": "code",
      "metadata": {
        "id": "imM7tPjtDm2F"
      },
      "source": [
        "# Se puede copiar un archivo en la carpeta o crearlo desde cualquier programa\n",
        "!echo \"Finalmente podemos concluir que ...\" > conclusion.txt"
      ],
      "execution_count": null,
      "outputs": []
    },
    {
      "cell_type": "code",
      "metadata": {
        "id": "8upoYmeVDm2H",
        "outputId": "22e86df0-c22a-4220-e73a-67228955688e"
      },
      "source": [
        "#!ls\n",
        "!dir "
      ],
      "execution_count": null,
      "outputs": [
        {
          "output_type": "stream",
          "text": [
            " El volumen de la unidad C no tiene etiqueta.\n",
            " El n£mero de serie del volumen es: 74C5-79FB\n",
            "\n",
            " Directorio de C:\\cursos\\Git_01_ver008\\ejemplo_git\n",
            "\n",
            "10/03/2021  04:37 p.m.    <DIR>          .\n",
            "10/03/2021  04:37 p.m.    <DIR>          ..\n",
            "10/03/2021  04:37 p.m.                40 conclusion.txt\n",
            "               1 archivos             40 bytes\n",
            "               2 dirs  30.030.647.296 bytes libres\n"
          ],
          "name": "stdout"
        }
      ]
    },
    {
      "cell_type": "code",
      "metadata": {
        "id": "MULicp7fDm2K",
        "outputId": "1459aa8f-30a6-4218-f68b-4f46431b024c"
      },
      "source": [
        "!type conclusion.txt"
      ],
      "execution_count": null,
      "outputs": [
        {
          "output_type": "stream",
          "text": [
            "\"Finalmente podemos concluir que ...\" \n"
          ],
          "name": "stdout"
        }
      ]
    },
    {
      "cell_type": "code",
      "metadata": {
        "id": "Nc_XbKcaDm2M",
        "outputId": "faabdf61-3636-42f3-ce03-7278abbf64b4"
      },
      "source": [
        "!git status"
      ],
      "execution_count": null,
      "outputs": [
        {
          "output_type": "stream",
          "text": [
            "On branch master\n",
            "\n",
            "No commits yet\n",
            "\n",
            "Untracked files:\n",
            "  (use \"git add <file>...\" to include in what will be committed)\n",
            "\tconclusion.txt\n",
            "\n",
            "nothing added to commit but untracked files present (use \"git add\" to track)\n"
          ],
          "name": "stdout"
        }
      ]
    },
    {
      "cell_type": "markdown",
      "metadata": {
        "id": "hudCEEI8Dm2N"
      },
      "source": [
        "![image.png](attachment:image.png)"
      ]
    },
    {
      "cell_type": "code",
      "metadata": {
        "id": "5chyJ_bpDm2O"
      },
      "source": [
        "!git add conclusion.txt"
      ],
      "execution_count": null,
      "outputs": []
    },
    {
      "cell_type": "code",
      "metadata": {
        "id": "e4778hjYDm2P",
        "outputId": "dca53797-cfe0-4bf2-d791-43dfd854f3f4"
      },
      "source": [
        "!git status"
      ],
      "execution_count": null,
      "outputs": [
        {
          "output_type": "stream",
          "text": [
            "On branch master\n",
            "\n",
            "No commits yet\n",
            "\n",
            "Changes to be committed:\n",
            "  (use \"git rm --cached <file>...\" to unstage)\n",
            "\tnew file:   conclusion.txt\n",
            "\n"
          ],
          "name": "stdout"
        }
      ]
    },
    {
      "cell_type": "markdown",
      "metadata": {
        "id": "gvfA0hpPDm2R"
      },
      "source": [
        "## Creando otro archivo"
      ]
    },
    {
      "cell_type": "code",
      "metadata": {
        "id": "ylCJ_6AMDm2T"
      },
      "source": [
        "# Se puede copiar un archivo en la carpeta o crearlo desde cualquier progrma\n",
        "!echo \"En este documento se presenta ...\" > resumen.txt"
      ],
      "execution_count": null,
      "outputs": []
    },
    {
      "cell_type": "code",
      "metadata": {
        "id": "TAYZv1ZSDm2U",
        "outputId": "68a0c804-d398-48ea-f998-644202c653e0"
      },
      "source": [
        "!git status"
      ],
      "execution_count": null,
      "outputs": [
        {
          "output_type": "stream",
          "text": [
            "On branch master\n",
            "\n",
            "No commits yet\n",
            "\n",
            "Changes to be committed:\n",
            "  (use \"git rm --cached <file>...\" to unstage)\n",
            "\tnew file:   conclusion.txt\n",
            "\n",
            "Untracked files:\n",
            "  (use \"git add <file>...\" to include in what will be committed)\n",
            "\tresumen.txt\n",
            "\n"
          ],
          "name": "stdout"
        }
      ]
    },
    {
      "cell_type": "code",
      "metadata": {
        "id": "TD_03sAcDm2X"
      },
      "source": [
        "!git add resumen.txt"
      ],
      "execution_count": null,
      "outputs": []
    },
    {
      "cell_type": "code",
      "metadata": {
        "id": "An_A2ebqDm2Y",
        "outputId": "f1f1fc2d-1307-4e0d-9dd5-2f08316d7552"
      },
      "source": [
        "!git status"
      ],
      "execution_count": null,
      "outputs": [
        {
          "output_type": "stream",
          "text": [
            "On branch master\n",
            "\n",
            "No commits yet\n",
            "\n",
            "Changes to be committed:\n",
            "  (use \"git rm --cached <file>...\" to unstage)\n",
            "\tnew file:   conclusion.txt\n",
            "\tnew file:   resumen.txt\n",
            "\n"
          ],
          "name": "stdout"
        }
      ]
    },
    {
      "cell_type": "markdown",
      "metadata": {
        "id": "_7ELSOcqDm2a"
      },
      "source": [
        "## Confirmando (`commit`)"
      ]
    },
    {
      "cell_type": "code",
      "metadata": {
        "id": "g0Dpz3WPDm2c",
        "outputId": "d685194c-0e07-453c-a889-9b15ab25b70d"
      },
      "source": [
        "!git commit -m \"Versión inicial del proyecto\"\n"
      ],
      "execution_count": null,
      "outputs": [
        {
          "output_type": "stream",
          "text": [
            "[master (root-commit) 6f9a713] VersiÃ³n inicial del proyecto\n",
            " 2 files changed, 2 insertions(+)\n",
            " create mode 100644 conclusion.txt\n",
            " create mode 100644 resumen.txt\n"
          ],
          "name": "stdout"
        }
      ]
    },
    {
      "cell_type": "markdown",
      "metadata": {
        "id": "w9vuSfs3Dm2e"
      },
      "source": [
        "![image.png](attachment:image.png)"
      ]
    },
    {
      "cell_type": "code",
      "metadata": {
        "id": "FN4ojWZFDm2f",
        "outputId": "846c7d38-088a-4ac3-e38e-c8b979d67407"
      },
      "source": [
        "!git status"
      ],
      "execution_count": null,
      "outputs": [
        {
          "output_type": "stream",
          "text": [
            "On branch master\n",
            "nothing to commit, working tree clean\n"
          ],
          "name": "stdout"
        }
      ]
    },
    {
      "cell_type": "markdown",
      "metadata": {
        "id": "LEFRVkZVDm2h"
      },
      "source": [
        "## Modificando y preparando (`stage`) archivo \n",
        "Pg. 26"
      ]
    },
    {
      "cell_type": "code",
      "metadata": {
        "id": "OqmAkfGBDm2i"
      },
      "source": [
        "!echo \"... en este aspecto mejoró 3% respecto ...\" >> conclusion.txt"
      ],
      "execution_count": null,
      "outputs": []
    },
    {
      "cell_type": "code",
      "metadata": {
        "id": "I8wy4LFYDm2k",
        "outputId": "cbfeab7b-a48c-468d-f744-f9733643c260"
      },
      "source": [
        "!type conclusion.txt"
      ],
      "execution_count": null,
      "outputs": [
        {
          "output_type": "stream",
          "text": [
            "\"Finalmente podemos concluir que ...\" \n",
            "\"... en este aspecto mejor¢ 3% respecto ...\" \n"
          ],
          "name": "stdout"
        }
      ]
    },
    {
      "cell_type": "code",
      "metadata": {
        "id": "ULnWNxzUDm2m",
        "outputId": "ac2ef59e-a450-4d1d-e3e7-ecc0d35eaaf7"
      },
      "source": [
        "!git status"
      ],
      "execution_count": null,
      "outputs": [
        {
          "output_type": "stream",
          "text": [
            "On branch master\n",
            "Changes not staged for commit:\n",
            "  (use \"git add <file>...\" to update what will be committed)\n",
            "  (use \"git restore <file>...\" to discard changes in working directory)\n",
            "\tmodified:   conclusion.txt\n",
            "\n",
            "no changes added to commit (use \"git add\" and/or \"git commit -a\")\n"
          ],
          "name": "stdout"
        }
      ]
    },
    {
      "cell_type": "markdown",
      "metadata": {
        "id": "zToWNUilDm2p"
      },
      "source": [
        "![image.png](attachment:image.png)"
      ]
    },
    {
      "cell_type": "code",
      "metadata": {
        "id": "ApJqI1ohDm2q"
      },
      "source": [
        "!echo \"... mejores resultados que los reportados.\" >> resumen.txt"
      ],
      "execution_count": null,
      "outputs": []
    },
    {
      "cell_type": "code",
      "metadata": {
        "id": "ZUWVF0VmDm2r",
        "outputId": "7fc3143c-02ad-4b28-af72-19952ff684ff"
      },
      "source": [
        "!type resumen.txt"
      ],
      "execution_count": null,
      "outputs": [
        {
          "output_type": "stream",
          "text": [
            "\"En este documento se presenta ...\" \n",
            "\"... mejores resultados que los reportados.\" \n"
          ],
          "name": "stdout"
        }
      ]
    },
    {
      "cell_type": "code",
      "metadata": {
        "id": "cGbbMMimDm2s",
        "outputId": "43054070-c0ca-4eb9-e8f5-b0b0f784b0dc"
      },
      "source": [
        "!git status"
      ],
      "execution_count": null,
      "outputs": [
        {
          "output_type": "stream",
          "text": [
            "On branch master\n",
            "Changes not staged for commit:\n",
            "  (use \"git add <file>...\" to update what will be committed)\n",
            "  (use \"git restore <file>...\" to discard changes in working directory)\n",
            "\tmodified:   conclusion.txt\n",
            "\tmodified:   resumen.txt\n",
            "\n",
            "no changes added to commit (use \"git add\" and/or \"git commit -a\")\n"
          ],
          "name": "stdout"
        }
      ]
    },
    {
      "cell_type": "code",
      "metadata": {
        "id": "b6onl7DmDm2u"
      },
      "source": [
        "!echo \"Desde los inicios de ...\" >> introduccion.txt"
      ],
      "execution_count": null,
      "outputs": []
    },
    {
      "cell_type": "code",
      "metadata": {
        "id": "jmTPsiI6Dm2v",
        "outputId": "ce2eb746-856f-44e6-c952-dad6b5ee9104"
      },
      "source": [
        "!git status"
      ],
      "execution_count": null,
      "outputs": [
        {
          "output_type": "stream",
          "text": [
            "On branch master\n",
            "Changes not staged for commit:\n",
            "  (use \"git add <file>...\" to update what will be committed)\n",
            "  (use \"git restore <file>...\" to discard changes in working directory)\n",
            "\tmodified:   conclusion.txt\n",
            "\tmodified:   resumen.txt\n",
            "\n",
            "Untracked files:\n",
            "  (use \"git add <file>...\" to include in what will be committed)\n",
            "\tintroduccion.txt\n",
            "\n",
            "no changes added to commit (use \"git add\" and/or \"git commit -a\")\n"
          ],
          "name": "stdout"
        }
      ]
    },
    {
      "cell_type": "code",
      "metadata": {
        "id": "a4MZO2azDm2x"
      },
      "source": [
        "!echo \"... se presentará en las conclusiones.\" >> introduccion.txt"
      ],
      "execution_count": null,
      "outputs": []
    },
    {
      "cell_type": "code",
      "metadata": {
        "id": "Y5o9qdTDDm2y",
        "outputId": "837a960e-0ad8-4051-86ac-63e587cbdedf"
      },
      "source": [
        "!git status"
      ],
      "execution_count": null,
      "outputs": [
        {
          "output_type": "stream",
          "text": [
            "On branch master\n",
            "Changes not staged for commit:\n",
            "  (use \"git add <file>...\" to update what will be committed)\n",
            "  (use \"git restore <file>...\" to discard changes in working directory)\n",
            "\tmodified:   conclusion.txt\n",
            "\tmodified:   resumen.txt\n",
            "\n",
            "Untracked files:\n",
            "  (use \"git add <file>...\" to include in what will be committed)\n",
            "\tintroduccion.txt\n",
            "\n",
            "no changes added to commit (use \"git add\" and/or \"git commit -a\")\n"
          ],
          "name": "stdout"
        }
      ]
    },
    {
      "cell_type": "markdown",
      "metadata": {
        "id": "hyVHTxw8Dm2z"
      },
      "source": [
        "![image-3.png](attachment:image-3.png)"
      ]
    },
    {
      "cell_type": "code",
      "metadata": {
        "id": "9NUGLd0JDm21"
      },
      "source": [
        "!git add conclusion.txt"
      ],
      "execution_count": null,
      "outputs": []
    },
    {
      "cell_type": "code",
      "metadata": {
        "id": "ePXzUcN8Dm22",
        "outputId": "421e9494-92d6-4d7e-e370-d09c82151885"
      },
      "source": [
        "!git status"
      ],
      "execution_count": null,
      "outputs": [
        {
          "output_type": "stream",
          "text": [
            "On branch master\n",
            "Changes to be committed:\n",
            "  (use \"git restore --staged <file>...\" to unstage)\n",
            "\tmodified:   conclusion.txt\n",
            "\n",
            "Changes not staged for commit:\n",
            "  (use \"git add <file>...\" to update what will be committed)\n",
            "  (use \"git restore <file>...\" to discard changes in working directory)\n",
            "\tmodified:   resumen.txt\n",
            "\n",
            "Untracked files:\n",
            "  (use \"git add <file>...\" to include in what will be committed)\n",
            "\tintroduccion.txt\n",
            "\n"
          ],
          "name": "stdout"
        }
      ]
    },
    {
      "cell_type": "code",
      "metadata": {
        "id": "usAUaojsDm24"
      },
      "source": [
        "!echo \"... superando en tres de los cinco ...\" >> conclusion.txt"
      ],
      "execution_count": null,
      "outputs": []
    },
    {
      "cell_type": "code",
      "metadata": {
        "id": "1SBLC6c9Dm26"
      },
      "source": [
        "!type conclusion.txt"
      ],
      "execution_count": null,
      "outputs": []
    },
    {
      "cell_type": "code",
      "metadata": {
        "id": "uV7XsrrgDm27"
      },
      "source": [
        "!git status"
      ],
      "execution_count": null,
      "outputs": []
    },
    {
      "cell_type": "code",
      "metadata": {
        "id": "wRRoANCeDm28"
      },
      "source": [
        "!git status -s\n",
        "# ??  No rastreado (Untracked)\n",
        "# A  Preparado (Staged)\n",
        "# M  Modificado (Modified)\n",
        "    # Columna izquierda es el estado preparado\n",
        "    # Columna derecha es el estado sin preparar"
      ],
      "execution_count": null,
      "outputs": []
    },
    {
      "cell_type": "code",
      "metadata": {
        "id": "Pv2m6pTFDm29"
      },
      "source": [
        "!git add introduccion.txt"
      ],
      "execution_count": null,
      "outputs": []
    },
    {
      "cell_type": "code",
      "metadata": {
        "id": "F9o4TZPADm2-"
      },
      "source": [
        "!git status -s"
      ],
      "execution_count": null,
      "outputs": []
    },
    {
      "cell_type": "code",
      "metadata": {
        "id": "c_ddZ0SUDm2_"
      },
      "source": [
        "!git add conclusion.txt"
      ],
      "execution_count": null,
      "outputs": []
    },
    {
      "cell_type": "code",
      "metadata": {
        "id": "YzmXChfPDm3A"
      },
      "source": [
        "!git status -s"
      ],
      "execution_count": null,
      "outputs": []
    },
    {
      "cell_type": "code",
      "metadata": {
        "id": "4WXSBHEpDm3B"
      },
      "source": [
        "!git add resumen.txt"
      ],
      "execution_count": null,
      "outputs": []
    },
    {
      "cell_type": "code",
      "metadata": {
        "id": "LTZRlNnODm3D"
      },
      "source": [
        "!git status -s"
      ],
      "execution_count": null,
      "outputs": []
    },
    {
      "cell_type": "code",
      "metadata": {
        "id": "zsD6ePJpDm3J"
      },
      "source": [
        "!git commit -m \"Se actualizó la conclusión y el resumen con los resultados y se comenzó la introduccón\""
      ],
      "execution_count": null,
      "outputs": []
    },
    {
      "cell_type": "code",
      "metadata": {
        "id": "2gRO1ziSDm3L"
      },
      "source": [
        "!git status -s"
      ],
      "execution_count": null,
      "outputs": []
    },
    {
      "cell_type": "markdown",
      "metadata": {
        "id": "WXYl0ewkDm3N"
      },
      "source": [
        "### Guardando cambios en el Repositorio\n",
        "Pg. 24"
      ]
    },
    {
      "cell_type": "markdown",
      "metadata": {
        "id": "fe26mbloDm3P"
      },
      "source": [
        "![image.png](attachment:image.png)"
      ]
    },
    {
      "cell_type": "code",
      "metadata": {
        "id": "yewFDEucDm3Q"
      },
      "source": [
        "!git status"
      ],
      "execution_count": null,
      "outputs": []
    },
    {
      "cell_type": "markdown",
      "metadata": {
        "id": "TCh3869FDm3R"
      },
      "source": [
        "## Ver el Historial de Confirmaciones\n",
        "Pg. 37"
      ]
    },
    {
      "cell_type": "code",
      "metadata": {
        "id": "C756KKyUDm3S"
      },
      "source": [
        "!git log"
      ],
      "execution_count": null,
      "outputs": []
    },
    {
      "cell_type": "markdown",
      "metadata": {
        "id": "VfXZPfsLDm3T"
      },
      "source": [
        "### Ignorar archivos\n",
        "Pg. 29\n",
        "\n",
        "En el archivo  `.gitignore` se colocan los archivos a ignorar\n",
        " "
      ]
    },
    {
      "cell_type": "markdown",
      "metadata": {
        "id": "0u3Jt7vFDm3U"
      },
      "source": [
        "### Ver los Cambios Preparados y No Preparados \n",
        "Pg. 30\n",
        "\n",
        "`git diff --staged`"
      ]
    },
    {
      "cell_type": "markdown",
      "metadata": {
        "id": "45GDy2O4Dm3W"
      },
      "source": [
        "### Confirmar tus Cambios \n",
        "Pg. 33\n",
        "\n",
        "`git commit`\n",
        "\n",
        "![image.png](attachment:image.png)"
      ]
    },
    {
      "cell_type": "markdown",
      "metadata": {
        "id": "Kxzmub0ADm3Y"
      },
      "source": [
        "### Saltar el Área de Preparación \n",
        "Pg. 34\n",
        "\n",
        "`git commit -a -m \"added new benchmarks\"`\n",
        "\n",
        "![image.png](attachment:image.png)"
      ]
    },
    {
      "cell_type": "markdown",
      "metadata": {
        "id": "9BLIaTskDm3a"
      },
      "source": [
        "### Eliminar Archivos \n",
        "Pg. 35\n",
        "\n",
        "`git rm un_archivo`\n",
        "\n",
        "![image.png](attachment:image.png)"
      ]
    },
    {
      "cell_type": "markdown",
      "metadata": {
        "id": "wFzRyPUmDm3b"
      },
      "source": [
        "### Cambiar el Nombre de los Archivos \n",
        "Pg. 36\n",
        "\n",
        "`git mv file_from file_to`"
      ]
    },
    {
      "cell_type": "markdown",
      "metadata": {
        "id": "h34jEn6hDm3c"
      },
      "source": [
        "## Ver el Historial de Confirmaciones\n",
        "Pg. 37"
      ]
    },
    {
      "cell_type": "code",
      "metadata": {
        "id": "pzK2M17SDm3d",
        "outputId": "9fe691d0-021b-4d81-a2eb-c7a8ea3ec7a9"
      },
      "source": [
        "!git clone https://github.com/schacon/simplegit-progit"
      ],
      "execution_count": null,
      "outputs": [
        {
          "output_type": "stream",
          "text": [
            "Cloning into 'simplegit-progit'...\n"
          ],
          "name": "stderr"
        }
      ]
    },
    {
      "cell_type": "code",
      "metadata": {
        "id": "ldXJ-17tDm3g",
        "outputId": "33a39117-0e29-480e-e407-9f7f00d2b432"
      },
      "source": [
        "!dir"
      ],
      "execution_count": null,
      "outputs": [
        {
          "output_type": "stream",
          "text": [
            " El volumen de la unidad C no tiene etiqueta.\n",
            " El n£mero de serie del volumen es: 74C5-79FB\n",
            "\n",
            " Directorio de C:\\cursos\\Git_01_ver008\n",
            "\n",
            "10/03/2021  12:28 p.m.    <DIR>          .\n",
            "10/03/2021  12:28 p.m.    <DIR>          ..\n",
            "09/03/2021  11:59 p.m.    <DIR>          .ipynb_checkpoints\n",
            "10/03/2021  12:27 p.m.           626.001 Git.ipynb\n",
            "10/03/2021  12:06 a.m.    <DIR>          imagenes\n",
            "10/03/2021  12:05 a.m.                44 saludo.txt\n",
            "10/03/2021  12:28 p.m.    <DIR>          simplegit-progit\n",
            "               2 archivos        626.045 bytes\n",
            "               5 dirs  27.968.950.272 bytes libres\n"
          ],
          "name": "stdout"
        }
      ]
    },
    {
      "cell_type": "code",
      "metadata": {
        "id": "gvIzn0k9Dm3i",
        "outputId": "a942cb1c-05e3-45b1-c3e4-d0e04ccfe76c"
      },
      "source": [
        "!git log"
      ],
      "execution_count": null,
      "outputs": [
        {
          "output_type": "stream",
          "text": [
            "fatal: not a git repository (or any of the parent directories): .git\n"
          ],
          "name": "stderr"
        }
      ]
    },
    {
      "cell_type": "code",
      "metadata": {
        "id": "Kq9D8Gi8Dm3l",
        "outputId": "a3467529-6a59-4a41-9606-0f44d700b29f"
      },
      "source": [
        "%cd simplegit-progit"
      ],
      "execution_count": null,
      "outputs": [
        {
          "output_type": "stream",
          "text": [
            "C:\\cursos\\Git_01_ver008\\simplegit-progit\n"
          ],
          "name": "stdout"
        }
      ]
    },
    {
      "cell_type": "code",
      "metadata": {
        "id": "c0w8cnfSDm3n",
        "outputId": "927f1a58-11ac-4827-b110-b385217c92f1"
      },
      "source": [
        "!dir"
      ],
      "execution_count": null,
      "outputs": [
        {
          "output_type": "stream",
          "text": [
            " El volumen de la unidad C no tiene etiqueta.\n",
            " El n£mero de serie del volumen es: 74C5-79FB\n",
            "\n",
            " Directorio de C:\\cursos\\Git_01_ver008\\simplegit-progit\n",
            "\n",
            "10/03/2021  12:28 p.m.    <DIR>          .\n",
            "10/03/2021  12:28 p.m.    <DIR>          ..\n",
            "10/03/2021  12:28 p.m.    <DIR>          lib\n",
            "10/03/2021  12:28 p.m.               615 Rakefile\n",
            "10/03/2021  12:28 p.m.               130 README\n",
            "               2 archivos            745 bytes\n",
            "               3 dirs  27.968.356.352 bytes libres\n"
          ],
          "name": "stdout"
        }
      ]
    },
    {
      "cell_type": "code",
      "metadata": {
        "id": "jRk96QFXDm3p",
        "outputId": "d31c05da-043b-4269-d141-08aeb3a94ed8"
      },
      "source": [
        "!dir lib"
      ],
      "execution_count": null,
      "outputs": [
        {
          "output_type": "stream",
          "text": [
            " El volumen de la unidad C no tiene etiqueta.\n",
            " El n£mero de serie del volumen es: 74C5-79FB\n",
            "\n",
            " Directorio de C:\\cursos\\Git_01_ver008\\simplegit-progit\\lib\n",
            "\n",
            "10/03/2021  12:28 p.m.    <DIR>          .\n",
            "10/03/2021  12:28 p.m.    <DIR>          ..\n",
            "10/03/2021  12:28 p.m.               375 simplegit.rb\n",
            "               1 archivos            375 bytes\n",
            "               2 dirs  27.968.045.056 bytes libres\n"
          ],
          "name": "stdout"
        }
      ]
    },
    {
      "cell_type": "code",
      "metadata": {
        "id": "ObvQ4fkzDm3r",
        "outputId": "9ef9a1de-534c-45a8-a939-510d2955c996"
      },
      "source": [
        "!git log"
      ],
      "execution_count": null,
      "outputs": [
        {
          "output_type": "stream",
          "text": [
            "commit ca82a6dff817ec66f44342007202690a93763949\n",
            "Author: Scott Chacon <schacon@gmail.com>\n",
            "Date:   Mon Mar 17 21:52:11 2008 -0700\n",
            "\n",
            "    changed the verison number\n",
            "\n",
            "commit 085bb3bcb608e1e8451d4b2432f8ecbe6306e7e7\n",
            "Author: Scott Chacon <schacon@gmail.com>\n",
            "Date:   Sat Mar 15 16:40:33 2008 -0700\n",
            "\n",
            "    removed unnecessary test code\n",
            "\n",
            "commit a11bef06a3f659402fe7563abf99ad00de2209e6\n",
            "Author: Scott Chacon <schacon@gmail.com>\n",
            "Date:   Sat Mar 15 10:31:28 2008 -0700\n",
            "\n",
            "    first commit\n"
          ],
          "name": "stdout"
        }
      ]
    },
    {
      "cell_type": "code",
      "metadata": {
        "id": "TZdA78wuDm3t",
        "outputId": "a5624acc-0605-4713-a12f-93698f0a9006"
      },
      "source": [
        "!git log -p -2"
      ],
      "execution_count": null,
      "outputs": [
        {
          "output_type": "stream",
          "text": [
            "commit ca82a6dff817ec66f44342007202690a93763949\n",
            "Author: Scott Chacon <schacon@gmail.com>\n",
            "Date:   Mon Mar 17 21:52:11 2008 -0700\n",
            "\n",
            "    changed the verison number\n",
            "\n",
            "diff --git a/Rakefile b/Rakefile\n",
            "index a874b73..8f94139 100644\n",
            "--- a/Rakefile\n",
            "+++ b/Rakefile\n",
            "@@ -5,7 +5,7 @@ require 'rake/gempackagetask'\n",
            " spec = Gem::Specification.new do |s|\n",
            "     s.platform  =   Gem::Platform::RUBY\n",
            "     s.name      =   \"simplegit\"\n",
            "-    s.version   =   \"0.1.0\"\n",
            "+    s.version   =   \"0.1.1\"\n",
            "     s.author    =   \"Scott Chacon\"\n",
            "     s.email     =   \"schacon@gmail.com\"\n",
            "     s.summary   =   \"A simple gem for using Git in Ruby code.\"\n",
            "\n",
            "commit 085bb3bcb608e1e8451d4b2432f8ecbe6306e7e7\n",
            "Author: Scott Chacon <schacon@gmail.com>\n",
            "Date:   Sat Mar 15 16:40:33 2008 -0700\n",
            "\n",
            "    removed unnecessary test code\n",
            "\n",
            "diff --git a/lib/simplegit.rb b/lib/simplegit.rb\n",
            "index a0a60ae..47c6340 100644\n",
            "--- a/lib/simplegit.rb\n",
            "+++ b/lib/simplegit.rb\n",
            "@@ -18,8 +18,3 @@ class SimpleGit\n",
            "     end\n",
            "   \n",
            " end\n",
            "-\n",
            "-if $0 == __FILE__\n",
            "-  git = SimpleGit.new\n",
            "-  puts git.show\n",
            "-end\n",
            "\\ No newline at end of file\n"
          ],
          "name": "stdout"
        }
      ]
    },
    {
      "cell_type": "markdown",
      "metadata": {
        "id": "jNiNcwQ7Dm3v"
      },
      "source": [
        "## Trabajar con remotos\n"
      ]
    },
    {
      "cell_type": "markdown",
      "metadata": {
        "id": "s1kFjZycDm3w"
      },
      "source": [
        ""
      ]
    },
    {
      "cell_type": "markdown",
      "metadata": {
        "id": "fk7Jp4W2Dm33"
      },
      "source": [
        ""
      ]
    },
    {
      "cell_type": "markdown",
      "metadata": {
        "id": "fZy1pP18Dm35"
      },
      "source": [
        ""
      ]
    },
    {
      "cell_type": "markdown",
      "metadata": {
        "id": "aytxaN4nDm37"
      },
      "source": [
        ""
      ]
    },
    {
      "cell_type": "markdown",
      "metadata": {
        "id": "25hVHvcLDm39"
      },
      "source": [
        ""
      ]
    },
    {
      "cell_type": "markdown",
      "metadata": {
        "id": "8Rc4Zr2qDm3-"
      },
      "source": [
        ""
      ]
    },
    {
      "cell_type": "markdown",
      "metadata": {
        "id": "fqJVMSnuDm4A"
      },
      "source": [
        ""
      ]
    },
    {
      "cell_type": "markdown",
      "metadata": {
        "id": "jDVEvgI3Dm4B"
      },
      "source": [
        ""
      ]
    },
    {
      "cell_type": "markdown",
      "metadata": {
        "id": "x-65-GJvDm4C"
      },
      "source": [
        ""
      ]
    },
    {
      "cell_type": "markdown",
      "metadata": {
        "id": "TthrpSJHDm4D"
      },
      "source": [
        ""
      ]
    },
    {
      "cell_type": "markdown",
      "metadata": {
        "id": "-KIBFwTQDm4E"
      },
      "source": [
        ""
      ]
    },
    {
      "cell_type": "markdown",
      "metadata": {
        "id": "BGgs1q3tDm4F"
      },
      "source": [
        ""
      ]
    },
    {
      "cell_type": "markdown",
      "metadata": {
        "id": "tnKAYzBKDm4F"
      },
      "source": [
        ""
      ]
    },
    {
      "cell_type": "markdown",
      "metadata": {
        "id": "KQFx82mzDm4G"
      },
      "source": [
        ""
      ]
    },
    {
      "cell_type": "markdown",
      "metadata": {
        "id": "E9p8s5NWDm4H"
      },
      "source": [
        ""
      ]
    },
    {
      "cell_type": "markdown",
      "metadata": {
        "id": "wdxd_KzcDm4I"
      },
      "source": [
        ""
      ]
    },
    {
      "cell_type": "markdown",
      "metadata": {
        "id": "yblIcTThDm4J"
      },
      "source": [
        ""
      ]
    },
    {
      "cell_type": "code",
      "metadata": {
        "id": "mvDA7vT6Dm4K"
      },
      "source": [
        ""
      ],
      "execution_count": null,
      "outputs": []
    },
    {
      "cell_type": "code",
      "metadata": {
        "id": "3IV798kuDm4M"
      },
      "source": [
        ""
      ],
      "execution_count": null,
      "outputs": []
    },
    {
      "cell_type": "code",
      "metadata": {
        "id": "8DUOFqqFDm4O"
      },
      "source": [
        ""
      ],
      "execution_count": null,
      "outputs": []
    },
    {
      "cell_type": "code",
      "metadata": {
        "id": "t9YZ02AsDm4P"
      },
      "source": [
        ""
      ],
      "execution_count": null,
      "outputs": []
    },
    {
      "cell_type": "code",
      "metadata": {
        "id": "LXenXDMFDm4Q"
      },
      "source": [
        ""
      ],
      "execution_count": null,
      "outputs": []
    },
    {
      "cell_type": "code",
      "metadata": {
        "id": "Bdmr32C9Dm4R"
      },
      "source": [
        ""
      ],
      "execution_count": null,
      "outputs": []
    }
  ]
}